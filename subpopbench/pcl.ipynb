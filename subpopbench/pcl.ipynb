{
 "cells": [
  {
   "cell_type": "markdown",
   "id": "e4cd1b81",
   "metadata": {},
   "source": [
    "# PCL Experiment Notebook\n",
    "\n",
    "Train algorithms on increasing dataset sizes and plot risk/likelihood."
   ]
  },
  {
   "cell_type": "markdown",
   "id": "0cbf6cf4",
   "metadata": {},
   "source": [
    "## Setup\n",
    "\n",
    "Environment, imports, device selection, and reproducibility seeds."
   ]
  },
  {
   "cell_type": "code",
   "execution_count": 1,
   "id": "b518c902",
   "metadata": {},
   "outputs": [
    {
     "name": "stdout",
     "output_type": "stream",
     "text": [
      "Using device: cuda\n",
      "Using seed: 0\n"
     ]
    }
   ],
   "source": [
    "# Imports and path setup\n",
    "import sys\n",
    "from pathlib import Path\n",
    "import torch\n",
    "import torch.nn.functional as F\n",
    "import numpy as np\n",
    "import matplotlib.pyplot as plt\n",
    "import random\n",
    "import os\n",
    "\n",
    "# Add project root to path if needed (before importing project modules)\n",
    "sys.path.append(str(Path('..').resolve()))\n",
    "\n",
    "from subpopbench.dataset import datasets\n",
    "from subpopbench.learning import algorithms\n",
    "from torch.utils.data import DataLoader, Subset\n",
    "from tqdm import tqdm\n",
    "from itertools import cycle\n",
    "from subpopbench import hparams_registry\n",
    "from subpopbench.utils.eval_helper import eval_metrics\n",
    "\n",
    "# Select device: use GPU if available\n",
    "DEVICE = torch.device('cuda' if torch.cuda.is_available() else 'cpu')\n",
    "print(f'Using device: {DEVICE}')\n",
    "\n",
    "# Reproducibility\n",
    "seed = int(os.environ.get('SEED', 0))\n",
    "torch.manual_seed(seed)\n",
    "np.random.seed(seed)\n",
    "random.seed(seed)\n",
    "if DEVICE.type == 'cuda':\n",
    "    torch.cuda.manual_seed_all(seed)\n",
    "print(f'Using seed: {seed}')"
   ]
  },
  {
   "cell_type": "code",
   "execution_count": 2,
   "id": "d669f4f4",
   "metadata": {},
   "outputs": [
    {
     "name": "stdout",
     "output_type": "stream",
     "text": [
      "Utility functions for robust error handling loaded successfully.\n"
     ]
    }
   ],
   "source": [
    "# Utility functions for robust error handling\n",
    "import logging\n",
    "import warnings\n",
    "# Configure logging for better error tracking\n",
    "\n",
    "# Import utility functions from misc.py\n",
    "from subpopbench.utils.misc import print_error_summary, group_counts, build_group_index, w, safe_mean, safe_extract_loss\n",
    "\n",
    "print(\"Utility functions for robust error handling loaded successfully.\")"
   ]
  },
  {
   "cell_type": "markdown",
   "id": "ad476be2",
   "metadata": {},
   "source": [
    "## Experiment configuration\n",
    "\n",
    "Dataset choice, learners, and result containers."
   ]
  },
  {
   "cell_type": "code",
   "execution_count": null,
   "id": "195cc4ce",
   "metadata": {},
   "outputs": [
    {
     "name": "stdout",
     "output_type": "stream",
     "text": [
      "Config:\n",
      "  Dataset: CMNIST\n",
      "  Learners: ['ERM', 'GroupDRO', 'IRM']\n",
      "  Data path: /home/mila/t/tom.marty/scratch/data/benchmark\n",
      "  Stratified sampling: True\n",
      "  Debug mode: False\n"
     ]
    }
   ],
   "source": [
    "DEBUG = False\n",
    "\n",
    "# Experiment config\n",
    "DATASET_NAME = 'CMNIST'\n",
    "DATA_PATH = '/home/mila/t/tom.marty/scratch/data/benchmark'\n",
    "LEARNERS =  ['ERM','GroupDRO', 'IRM'] # ['GroupDRO','ERM', 'DFR', 'IRM','ReSample']  # invariant learners to compare\n",
    "NETWORK_NAME = 'ResNet'  # used in title; Algorithm builds its own network\n",
    "BATCH_SIZE = 128\n",
    "NUM_FIT = 7 \n",
    "NUM_WORKERS = 0\n",
    "\n",
    "USE_STRATIFIED = True # Toggle: use stratified (label, attr) sampling such that the class ratio is preserved\n",
    "ROBUST_TRAINING = True  # Enable robust error handling\n",
    "MAX_RETRIES = 3  # Maximum number of retries for failed operations\n",
    "CONTINUE_ON_ERROR = True  # Continue with next algorithm/size if current fails\n",
    "SAVE_PARTIAL_RESULTS = True  # Save results even if some experiments fail\n",
    "\n",
    "# Early stopping configuration\n",
    "ES_MIN_DELTA = 0.0       # minimum improvement to reset \n",
    "ES_PATIENCE = 3         # checkpoints without improvement before stopping\n",
    "if DEBUG:\n",
    "    ES_PATIENCE = 0\n",
    "    LEARNERS = ['ERM']  # only run ERM in debug mode \n",
    "\n",
    "print('Config:')\n",
    "print(f'  Dataset: {DATASET_NAME}')\n",
    "print(f'  Learners: {LEARNERS}')\n",
    "print(f'  Data path: {DATA_PATH}')\n",
    "print(f'  Stratified sampling: {USE_STRATIFIED}')\n",
    "print(f'  Debug mode: {DEBUG}')\n",
    "\n",
    "# Prepare per-learner results storage\n",
    "val_loss_map = {alg: [] for alg in LEARNERS}           # validation loss means (best)\n",
    "train_loss_map = {alg: [] for alg in LEARNERS}        # training loss mean (per size)\n",
    "test_loss_map  = {alg: [] for alg in LEARNERS}        # test loss means (final model)\n",
    "test_acc_map = {alg: [] for alg in LEARNERS}          # test accuracy\n",
    "worst_group_acc_map = {alg: [] for alg in LEARNERS}   # test worst-group accuracy\n"
   ]
  },
  {
   "cell_type": "markdown",
   "id": "64d32c5c",
   "metadata": {},
   "source": [
    "## Hyperparameters\n",
    "\n",
    "Defaults and dataset-specific overrides."
   ]
  },
  {
   "cell_type": "code",
   "execution_count": 4,
   "id": "55ebcc60",
   "metadata": {},
   "outputs": [
    {
     "name": "stdout",
     "output_type": "stream",
     "text": [
      "Hparams template (subset):\n",
      "  image_arch: resnet_sup_in1k\n",
      "  text_arch: bert-base-uncased\n"
     ]
    }
   ],
   "source": [
    "# Hyperparameters template\n",
    "import os\n",
    "\n",
    "# We'll derive specific hparams per learner in the training loop\n",
    "base_hparams = hparams_registry.default_hparams('ERM', DATASET_NAME)\n",
    "base_hparams.update({\n",
    "    'image_arch': 'resnet_sup_in1k',\n",
    "    'text_arch': 'bert-base-uncased',\n",
    "})\n",
    "\n",
    "\"\"\"\n",
    "Colored MNIST specific hyperparameters:\n",
    "- cmnist_label_prob: Probability of label imbalance (default 0.5)\n",
    "- cmnist_attr_prob: Probability of attribute imbalance (default 0.5)\n",
    "- cmnist_spur_prob: Controls the summed diagonal proportion (0,1). The more this is towards 0, the more the color is spuriously correlated with the label. \n",
    "\n",
    "\"\"\"\n",
    "\n",
    "def safe_float_env(var, default):\n",
    "    val = os.environ.get(var, '')\n",
    "    try:\n",
    "        return float(val) if val else default\n",
    "    except ValueError:\n",
    "        return default\n",
    "\n",
    "cminist_label_prob = safe_float_env(\"CMNIST_LABEL_PROB\", 0.5)\n",
    "cmnist_attr_prob = safe_float_env(\"CMNIST_ATTR_PROB\", 0.5)\n",
    "cmnist_spur_prob = safe_float_env(\"CMNIST_SPUR_PROB\", 0.1)\n",
    "\n",
    "if DATASET_NAME == 'CMNIST':\n",
    "    base_hparams.update({\n",
    "        'cmnist_label_prob': cminist_label_prob,\n",
    "        'cmnist_attr_prob': cmnist_attr_prob, \n",
    "        'cmnist_spur_prob': cmnist_spur_prob,\n",
    "        'cmnist_flip_prob': 0.0,\n",
    "    })\n",
    "\n",
    "print('Hparams template (subset):')\n",
    "for k in ['image_arch', 'text_arch']:\n",
    "    print(f'  {k}: {base_hparams[k]}')"
   ]
  },
  {
   "cell_type": "markdown",
   "id": "85799a7a",
   "metadata": {},
   "source": [
    "## Datasets\n",
    "\n",
    "Load train/val/test splits and preview samples."
   ]
  },
  {
   "cell_type": "code",
   "execution_count": 5,
   "id": "aa12b7aa",
   "metadata": {},
   "outputs": [
    {
     "name": "stdout",
     "output_type": "stream",
     "text": [
      "Train sizes: [10, 37, 144, 547, 2080, 7899, 30000]\n",
      "Datasets:\n",
      "  Train size: 30000 | Val size: 10000 | Test size: 20000 (restricted)\n",
      "  Input shape: (3, 224, 224) | data_type: images\n",
      "  num_labels: 2 | num_attributes: 2\n",
      "Stratified groups (counts): {(0, 0): 13849, (0, 1): 1482, (1, 0): 1480, (1, 1): 13189}\n",
      "\n",
      "Class distribution:\n",
      "       count  percentage\n",
      "class                   \n",
      "0      15331        51.1\n",
      "1      14669        48.9\n",
      "\n",
      "Attribute distribution:\n",
      "           count  percentage\n",
      "attribute                   \n",
      "0          15329        51.1\n",
      "1          14671        48.9\n",
      "\n",
      "Group (class, attribute) distribution:\n",
      "                 count  percentage\n",
      "class attribute                   \n",
      "0     0          13849       46.16\n",
      "      1           1482        4.94\n",
      "1     0           1480        4.93\n",
      "      1          13189       43.96\n"
     ]
    },
    {
     "data": {
      "image/png": "[encoded data removed]",
      "text/plain": [
       "<Figure size 800x800 with 25 Axes>"
      ]
     },
     "metadata": {},
     "output_type": "display_data"
    }
   ],
   "source": [
    "# Attach key attributes to Subset objects for easier access\n",
    "def attach_dataset_attributes(subset):\n",
    "    if hasattr(subset, 'dataset'):\n",
    "        for attr in ['INPUT_SHAPE', 'num_labels', 'num_attributes', 'data_type', 'N_STEPS']:\n",
    "            if hasattr(subset.dataset, attr):\n",
    "                setattr(subset, attr, getattr(subset.dataset, attr))\n",
    "\n",
    "# Datasets\n",
    "DatasetClass = getattr(datasets, DATASET_NAME)\n",
    "train_dataset = DatasetClass(DATA_PATH, 'tr', base_hparams)\n",
    "val_dataset = DatasetClass(DATA_PATH, 'va', base_hparams)\n",
    "\n",
    "# Create a perfectly balanced test dataset (all probabilities set to 0.5)\n",
    "balanced_test_hparams = base_hparams.copy()\n",
    "balanced_test_hparams.update({\n",
    "    'cmnist_label_prob': 0.5,\n",
    "    'cmnist_attr_prob': 0.5,\n",
    "    'cmnist_spur_prob': 0.5,\n",
    "    'cmnist_flip_prob': 0.0\n",
    "})\n",
    "test_dataset = DatasetClass(DATA_PATH, 'te', balanced_test_hparams)\n",
    "\n",
    "# If debug, reduce all datasets to size 100\n",
    "if DEBUG:\n",
    "    train_indices = random.sample(range(len(train_dataset)), min(100, len(train_dataset)))\n",
    "    val_indices = random.sample(range(len(val_dataset)), min(100, len(val_dataset)))\n",
    "    test_indices = random.sample(range(len(test_dataset)), min(100, len(test_dataset)))\n",
    "    train_dataset = Subset(train_dataset, train_indices)\n",
    "    val_dataset = Subset(val_dataset, val_indices)\n",
    "    test_dataset = Subset(test_dataset, test_indices)\n",
    "    dataset_sizes = [10, 100]\n",
    "else:\n",
    "    max_train_size = len(train_dataset)\n",
    "    dataset_sizes = np.logspace(1, np.log10(max_train_size), num=NUM_FIT, dtype=int).tolist()\n",
    "\n",
    "attach_dataset_attributes(train_dataset)\n",
    "attach_dataset_attributes(val_dataset)\n",
    "attach_dataset_attributes(test_dataset)\n",
    "\n",
    "print(f'Train sizes: {dataset_sizes}')\n",
    "\n",
    "indices = list(range(len(train_dataset)))\n",
    "random.shuffle(indices)\n",
    "\n",
    "input_shape = train_dataset.INPUT_SHAPE\n",
    "num_labels = train_dataset.num_labels\n",
    "num_attributes = train_dataset.num_attributes\n",
    "data_type = getattr(train_dataset, 'data_type', 'images')\n",
    "\n",
    "print('Datasets:')\n",
    "print(f'  Train size: {len(train_dataset)} | Val size: {len(val_dataset)} | Test size: {len(test_dataset)} (restricted)')\n",
    "print(f'  Input shape: {input_shape} | data_type: {data_type}')\n",
    "print(f'  num_labels: {num_labels} | num_attributes: {num_attributes}')\n",
    "\n",
    "    \n",
    "if USE_STRATIFIED:\n",
    "    group_to_indices = build_group_index(train_dataset)\n",
    "    group_counts_dict = {k: len(v) for k, v in sorted(group_to_indices.items())}\n",
    "    print('Stratified groups (counts):', group_counts_dict)\n",
    "\n",
    "    # Aggregate counts for each class and attribute\n",
    "    import pandas as pd\n",
    "    import numpy as np\n",
    "    df = pd.DataFrame([{'class': k[0], 'attribute': k[1], 'count': v} for k, v in group_counts_dict.items()])\n",
    "    class_counts = df.groupby('class')['count'].sum()\n",
    "    attr_counts = df.groupby('attribute')['count'].sum()\n",
    "    total = df['count'].sum()\n",
    "\n",
    "    print('\\nClass distribution:')\n",
    "    class_dist = df.groupby('class')['count'].sum().to_frame()\n",
    "    class_dist['percentage'] = (class_dist['count'] / total * 100).round(2)\n",
    "    print(class_dist.to_string())\n",
    "\n",
    "    print('\\nAttribute distribution:')\n",
    "    attr_dist = df.groupby('attribute')['count'].sum().to_frame()\n",
    "    attr_dist['percentage'] = (attr_dist['count'] / total * 100).round(2)\n",
    "    print(attr_dist.to_string())\n",
    "\n",
    "    print('\\nGroup (class, attribute) distribution:')\n",
    "    group_dist = df.set_index(['class','attribute'])\n",
    "    group_dist['percentage'] = (group_dist['count'] / total * 100).round(2)\n",
    "    print(group_dist.to_string())\n",
    "    \n",
    "# Preview a few samples (images only)\n",
    "if data_type == 'images':\n",
    "    fig, axes = plt.subplots(5, 5, figsize=(8, 8))\n",
    "    axes = axes.flatten()\n",
    "\n",
    "    for k, ax in enumerate(axes):\n",
    "        idx, x, y, a = train_dataset[k]\n",
    "        # Scale per-image to [0,1] for visualization\n",
    "        x_vis = x.detach().cpu()\n",
    "        x_min, x_max = x_vis.min(), x_vis.max()\n",
    "        x_vis = (x_vis - x_min) / (x_max - x_min + 1e-6)\n",
    "        ax.imshow(x_vis.permute(1, 2, 0))\n",
    "        ax.set_title(f'Label: {int(y)}, Attr: {int(a)}')\n",
    "        ax.axis('off')\n",
    "    plt.tight_layout()\n",
    "    plt.show()\n",
    "else:\n",
    "    print('Non-image dataset preview omitted.')\n"
   ]
  },
  {
   "cell_type": "markdown",
   "id": "d2caf311",
   "metadata": {},
   "source": [
    "### Dataset Analysis\n",
    "\n",
    "If `USE_STRATIFIED` is True, each training subset for a given size is drawn approximately proportional to the (label, attr) group counts in the full training set using the helper `w(...)`. This helps maintain group balance across different subset sizes. Set `USE_STRATIFIED = False` to revert to the earlier simple prefix-based random subset selection.\n"
   ]
  },
  {
   "cell_type": "code",
   "execution_count": 6,
   "id": "61b9fcd8",
   "metadata": {},
   "outputs": [
    {
     "name": "stdout",
     "output_type": "stream",
     "text": [
      "[train] size=30000 | unique attrs=[0, 1] | unique labels=[0, 1]\n",
      "[train] attr counts: {0: 15329, 1: 14671}\n",
      "[train] label counts: {0: 15331, 1: 14669}\n",
      "[train] (label, attr) counts: {(0, 0): 13849, (0, 1): 1482, (1, 0): 1480, (1, 1): 13189}\n",
      "[val] size=10000 | unique attrs=[0, 1] | unique labels=[0, 1]\n",
      "[val] attr counts: {0: 5049, 1: 4951}\n",
      "[val] label counts: {0: 5089, 1: 4911}\n",
      "[val] (label, attr) counts: {(0, 0): 4573, (0, 1): 516, (1, 0): 476, (1, 1): 4435}\n",
      "[test] size=20000 | unique attrs=[0, 1] | unique labels=[0, 1]\n",
      "[test] attr counts: {0: 9871, 1: 10129}\n",
      "[test] label counts: {0: 10176, 1: 9824}\n",
      "[test] (label, attr) counts: {(0, 0): 5028, (0, 1): 5148, (1, 0): 4843, (1, 1): 4981}\n"
     ]
    }
   ],
   "source": [
    "# Run group coverage checks\n",
    "_ = group_counts(train_dataset, 'train')\n",
    "_ = group_counts(val_dataset, 'val')\n",
    "_ = group_counts(test_dataset, 'test')\n",
    "\n",
    "group_to_indices = build_group_index(train_dataset)"
   ]
  },
  {
   "cell_type": "markdown",
   "id": "df1be384",
   "metadata": {},
   "source": [
    "## Training and evaluation\n",
    "\n",
    "Main training loop over dataset sizes and algorithms with robust error handling."
   ]
  },
  {
   "cell_type": "code",
   "execution_count": null,
   "id": "86ad6a11",
   "metadata": {},
   "outputs": [
    {
     "name": "stdout",
     "output_type": "stream",
     "text": [
      "\n",
      "=== Learner: ERM ===\n",
      "\n",
      "--- Training ERM with size=10 ---\n",
      "[Init] size=10 | algo=ERM | data_type=images | input_shape=(3, 224, 224) | labels=2 | attrs=2 | stratified=True\n"
     ]
    },
    {
     "data": {
      "application/vnd.jupyter.widget-view+json": {
       "model_id": "b268fdb209174d32ab7313ec3d4372b9",
       "version_major": 2,
       "version_minor": 0
      },
      "text/plain": [
       "Train size=10 (ERM):   0%|          | 0/5001 [00:00<?, ?it/s]"
      ]
     },
     "metadata": {},
     "output_type": "display_data"
    },
    {
     "data": {
      "application/vnd.jupyter.widget-view+json": {
       "model_id": "a6c90843c4494753b48bebb854e9cecc",
       "version_major": 2,
       "version_minor": 0
      },
      "text/plain": [
       "Validation ERM:   0%|          | 0/79 [00:00<?, ?it/s]"
      ]
     },
     "metadata": {},
     "output_type": "display_data"
    },
    {
     "data": {
      "application/vnd.jupyter.widget-view+json": {
       "model_id": "048f5dcdff184e2db2a0d75d8b422fee",
       "version_major": 2,
       "version_minor": 0
      },
      "text/plain": [
       "Validation ERM:   0%|          | 0/79 [00:00<?, ?it/s]"
      ]
     },
     "metadata": {},
     "output_type": "display_data"
    },
    {
     "data": {
      "application/vnd.jupyter.widget-view+json": {
       "model_id": "55ee4e4aba0b4f34a2f210f4815d03b7",
       "version_major": 2,
       "version_minor": 0
      },
      "text/plain": [
       "Validation ERM:   0%|          | 0/79 [00:00<?, ?it/s]"
      ]
     },
     "metadata": {},
     "output_type": "display_data"
    },
    {
     "data": {
      "application/vnd.jupyter.widget-view+json": {
       "model_id": "296ea74fa3704edb8abf8a27991dc2b9",
       "version_major": 2,
       "version_minor": 0
      },
      "text/plain": [
       "Validation ERM:   0%|          | 0/79 [00:00<?, ?it/s]"
      ]
     },
     "metadata": {},
     "output_type": "display_data"
    },
    {
     "name": "stdout",
     "output_type": "stream",
     "text": [
      "[EarlyStop] size=10 | algo=ERM | step=80 | best_val=0.4253\n",
      "[Info] Loaded best model from results/20250911-182934/checkpoints/ERM/best_model_ERM_size10.pt\n",
      "[Test Results] | test_acc=0.5415 | worst_group_acc=0.0000 | test_bce=1.0935\n",
      "\n",
      "--- Training ERM with size=37 ---\n",
      "[Init] size=37 | algo=ERM | data_type=images | input_shape=(3, 224, 224) | labels=2 | attrs=2 | stratified=True\n"
     ]
    },
    {
     "data": {
      "application/vnd.jupyter.widget-view+json": {
       "model_id": "b1fa323f78e64fcf925ee2be11c58159",
       "version_major": 2,
       "version_minor": 0
      },
      "text/plain": [
       "Train size=37 (ERM):   0%|          | 0/5001 [00:00<?, ?it/s]"
      ]
     },
     "metadata": {},
     "output_type": "display_data"
    },
    {
     "data": {
      "application/vnd.jupyter.widget-view+json": {
       "model_id": "d624ec824d604b85951e130fd00badc1",
       "version_major": 2,
       "version_minor": 0
      },
      "text/plain": [
       "Validation ERM:   0%|          | 0/79 [00:00<?, ?it/s]"
      ]
     },
     "metadata": {},
     "output_type": "display_data"
    },
    {
     "data": {
      "application/vnd.jupyter.widget-view+json": {
       "model_id": "c3f6592897084dbb941e85c2d28ad1b9",
       "version_major": 2,
       "version_minor": 0
      },
      "text/plain": [
       "Validation ERM:   0%|          | 0/79 [00:00<?, ?it/s]"
      ]
     },
     "metadata": {},
     "output_type": "display_data"
    },
    {
     "data": {
      "application/vnd.jupyter.widget-view+json": {
       "model_id": "83e47cb330e146ffaf111b6b91e751a6",
       "version_major": 2,
       "version_minor": 0
      },
      "text/plain": [
       "Validation ERM:   0%|          | 0/79 [00:00<?, ?it/s]"
      ]
     },
     "metadata": {},
     "output_type": "display_data"
    },
    {
     "name": "stderr",
     "output_type": "stream",
     "text": [
      "Exception ignored in: <function _releaseLock at 0x7f52b0a007c0>\n",
      "Traceback (most recent call last):\n",
      "  File \"/home/mila/t/tom.marty/.local/share/uv/python/cpython-3.12.11-linux-x86_64-gnu/lib/python3.12/logging/__init__.py\", line 243, in _releaseLock\n",
      "    def _releaseLock():\n",
      "    \n",
      "KeyboardInterrupt: \n"
     ]
    },
    {
     "name": "stdout",
     "output_type": "stream",
     "text": [
      "[Info] Loaded best model from results/20250911-182934/checkpoints/ERM/best_model_ERM_size37.pt\n",
      "[Test Results] | test_acc=0.5004 | worst_group_acc=0.0000 | test_bce=1.2330\n",
      "\n",
      "--- Training ERM with size=144 ---\n",
      "[Init] size=144 | algo=ERM | data_type=images | input_shape=(3, 224, 224) | labels=2 | attrs=2 | stratified=True\n"
     ]
    },
    {
     "data": {
      "application/vnd.jupyter.widget-view+json": {
       "model_id": "75f55dbefcbd4621aecef8b4a8eae08c",
       "version_major": 2,
       "version_minor": 0
      },
      "text/plain": [
       "Train size=144 (ERM):   0%|          | 0/5001 [00:00<?, ?it/s]"
      ]
     },
     "metadata": {},
     "output_type": "display_data"
    },
    {
     "data": {
      "application/vnd.jupyter.widget-view+json": {
       "model_id": "e549c01bd3c84a2e85c4374400392402",
       "version_major": 2,
       "version_minor": 0
      },
      "text/plain": [
       "Validation ERM:   0%|          | 0/79 [00:00<?, ?it/s]"
      ]
     },
     "metadata": {},
     "output_type": "display_data"
    },
    {
     "data": {
      "application/vnd.jupyter.widget-view+json": {
       "model_id": "c162f004ddfc41c991c50ee6708eec21",
       "version_major": 2,
       "version_minor": 0
      },
      "text/plain": [
       "Validation ERM:   0%|          | 0/79 [00:00<?, ?it/s]"
      ]
     },
     "metadata": {},
     "output_type": "display_data"
    },
    {
     "data": {
      "application/vnd.jupyter.widget-view+json": {
       "model_id": "160234dca0e54def8db82ac6927b9c55",
       "version_major": 2,
       "version_minor": 0
      },
      "text/plain": [
       "Validation ERM:   0%|          | 0/79 [00:00<?, ?it/s]"
      ]
     },
     "metadata": {},
     "output_type": "display_data"
    },
    {
     "data": {
      "application/vnd.jupyter.widget-view+json": {
       "model_id": "b687c78c95cf421fbbe2e4acca749786",
       "version_major": 2,
       "version_minor": 0
      },
      "text/plain": [
       "Validation ERM:   0%|          | 0/79 [00:00<?, ?it/s]"
      ]
     },
     "metadata": {},
     "output_type": "display_data"
    },
    {
     "data": {
      "application/vnd.jupyter.widget-view+json": {
       "model_id": "e90f4501ce4647929eccca54e37eb19a",
       "version_major": 2,
       "version_minor": 0
      },
      "text/plain": [
       "Validation ERM:   0%|          | 0/79 [00:00<?, ?it/s]"
      ]
     },
     "metadata": {},
     "output_type": "display_data"
    },
    {
     "data": {
      "application/vnd.jupyter.widget-view+json": {
       "model_id": "d53b25ec3559479c9cbfdaa5ea33e5d1",
       "version_major": 2,
       "version_minor": 0
      },
      "text/plain": [
       "Validation ERM:   0%|          | 0/79 [00:00<?, ?it/s]"
      ]
     },
     "metadata": {},
     "output_type": "display_data"
    },
    {
     "name": "stdout",
     "output_type": "stream",
     "text": [
      "[EarlyStop] size=144 | algo=ERM | step=120 | best_val=0.3129\n",
      "[Info] Loaded best model from results/20250911-182934/checkpoints/ERM/best_model_ERM_size144.pt\n",
      "[Test Results] | test_acc=0.5006 | worst_group_acc=0.0000 | test_bce=1.0873\n",
      "\n",
      "--- Training ERM with size=547 ---\n",
      "[Init] size=547 | algo=ERM | data_type=images | input_shape=(3, 224, 224) | labels=2 | attrs=2 | stratified=True\n"
     ]
    },
    {
     "data": {
      "application/vnd.jupyter.widget-view+json": {
       "model_id": "06dea3767e1a41e1a08e87a79611e8ec",
       "version_major": 2,
       "version_minor": 0
      },
      "text/plain": [
       "Train size=547 (ERM):   0%|          | 0/5001 [00:00<?, ?it/s]"
      ]
     },
     "metadata": {},
     "output_type": "display_data"
    },
    {
     "data": {
      "application/vnd.jupyter.widget-view+json": {
       "model_id": "f11ca6bdbdac4e89bd2cd26fee897db7",
       "version_major": 2,
       "version_minor": 0
      },
      "text/plain": [
       "Validation ERM:   0%|          | 0/79 [00:00<?, ?it/s]"
      ]
     },
     "metadata": {},
     "output_type": "display_data"
    },
    {
     "data": {
      "application/vnd.jupyter.widget-view+json": {
       "model_id": "23841d12aa50414e80ea4d6b97bd6a26",
       "version_major": 2,
       "version_minor": 0
      },
      "text/plain": [
       "Validation ERM:   0%|          | 0/79 [00:00<?, ?it/s]"
      ]
     },
     "metadata": {},
     "output_type": "display_data"
    },
    {
     "data": {
      "application/vnd.jupyter.widget-view+json": {
       "model_id": "df2994f4e764415399da2fa4a9c6ffcc",
       "version_major": 2,
       "version_minor": 0
      },
      "text/plain": [
       "Validation ERM:   0%|          | 0/79 [00:00<?, ?it/s]"
      ]
     },
     "metadata": {},
     "output_type": "display_data"
    },
    {
     "data": {
      "application/vnd.jupyter.widget-view+json": {
       "model_id": "c3f2c3aebe804f7a911654b9c1f161bd",
       "version_major": 2,
       "version_minor": 0
      },
      "text/plain": [
       "Validation ERM:   0%|          | 0/79 [00:00<?, ?it/s]"
      ]
     },
     "metadata": {},
     "output_type": "display_data"
    },
    {
     "data": {
      "application/vnd.jupyter.widget-view+json": {
       "model_id": "00bc2062653249c3877ece2517334472",
       "version_major": 2,
       "version_minor": 0
      },
      "text/plain": [
       "Validation ERM:   0%|          | 0/79 [00:00<?, ?it/s]"
      ]
     },
     "metadata": {},
     "output_type": "display_data"
    },
    {
     "data": {
      "application/vnd.jupyter.widget-view+json": {
       "model_id": "6a88a82feb7d4172b597d05e404f9f72",
       "version_major": 2,
       "version_minor": 0
      },
      "text/plain": [
       "Validation ERM:   0%|          | 0/79 [00:00<?, ?it/s]"
      ]
     },
     "metadata": {},
     "output_type": "display_data"
    },
    {
     "data": {
      "application/vnd.jupyter.widget-view+json": {
       "model_id": "78fb36bb14504b45b5e5dfa6b5147727",
       "version_major": 2,
       "version_minor": 0
      },
      "text/plain": [
       "Validation ERM:   0%|          | 0/79 [00:00<?, ?it/s]"
      ]
     },
     "metadata": {},
     "output_type": "display_data"
    },
    {
     "data": {
      "application/vnd.jupyter.widget-view+json": {
       "model_id": "9a443a56f0a244889166b80fccb6f919",
       "version_major": 2,
       "version_minor": 0
      },
      "text/plain": [
       "Validation ERM:   0%|          | 0/79 [00:00<?, ?it/s]"
      ]
     },
     "metadata": {},
     "output_type": "display_data"
    },
    {
     "data": {
      "application/vnd.jupyter.widget-view+json": {
       "model_id": "20b7e489946e41189181fea9d63fc9a0",
       "version_major": 2,
       "version_minor": 0
      },
      "text/plain": [
       "Validation ERM:   0%|          | 0/79 [00:00<?, ?it/s]"
      ]
     },
     "metadata": {},
     "output_type": "display_data"
    },
    {
     "data": {
      "application/vnd.jupyter.widget-view+json": {
       "model_id": "02e96636a7fa447a86fb5a6c78ae760d",
       "version_major": 2,
       "version_minor": 0
      },
      "text/plain": [
       "Validation ERM:   0%|          | 0/79 [00:00<?, ?it/s]"
      ]
     },
     "metadata": {},
     "output_type": "display_data"
    },
    {
     "name": "stdout",
     "output_type": "stream",
     "text": [
      "[EarlyStop] size=547 | algo=ERM | step=200 | best_val=0.1698\n",
      "[Info] Loaded best model from results/20250911-182934/checkpoints/ERM/best_model_ERM_size547.pt\n",
      "[Test Results] | test_acc=0.7583 | worst_group_acc=0.5202 | test_bce=0.8162\n",
      "\n",
      "--- Training ERM with size=2080 ---\n",
      "[Init] size=2080 | algo=ERM | data_type=images | input_shape=(3, 224, 224) | labels=2 | attrs=2 | stratified=True\n"
     ]
    },
    {
     "data": {
      "application/vnd.jupyter.widget-view+json": {
       "model_id": "01ef7a517b8f45d086657601c1d0e683",
       "version_major": 2,
       "version_minor": 0
      },
      "text/plain": [
       "Train size=2080 (ERM):   0%|          | 0/5001 [00:00<?, ?it/s]"
      ]
     },
     "metadata": {},
     "output_type": "display_data"
    },
    {
     "data": {
      "application/vnd.jupyter.widget-view+json": {
       "model_id": "5aa7600d2e3644a99af9a7ce4dda25d6",
       "version_major": 2,
       "version_minor": 0
      },
      "text/plain": [
       "Validation ERM:   0%|          | 0/79 [00:00<?, ?it/s]"
      ]
     },
     "metadata": {},
     "output_type": "display_data"
    }
   ],
   "source": [
    "# Training and evaluation\n",
    "from tqdm.notebook import tqdm  # Use notebook version for cleaner output\n",
    "import os\n",
    "import math\n",
    "import time\n",
    "from IPython.display import clear_output\n",
    "import logging\n",
    "import sys\n",
    "\n",
    "# Use environment variable for timestamp if set, else fallback to current time\n",
    "results_folder = os.environ.get('RESULT_FOLDER', time.strftime('%Y%m%d-%H%M%S'))\n",
    "result_dir = os.path.join(\"results\", results_folder)\n",
    "\n",
    "# Create the results directory if it doesn't exist\n",
    "os.makedirs(result_dir, exist_ok=True)\n",
    "\n",
    "log_file = os.path.join(result_dir, 'training.log')\n",
    "logging.basicConfig(filename=log_file, level=logging.INFO, format='%(asctime)s - %(levelname)s - %(message)s')\n",
    "logger = logging.getLogger(__name__)\n",
    "\n",
    "\n",
    "# Enhanced error tracking\n",
    "ERROR_LOG = {\n",
    "    'algorithm_failures': {},\n",
    "    'size_failures': {},\n",
    "    'step_failures': {},\n",
    "    'validation_failures': {},\n",
    "    'test_failures': {}\n",
    "}\n",
    "\n",
    "def infinite_loader(dataset, batch_size=128, num_workers=4, shuffle=True, pin_memory=True):\n",
    "    dl = DataLoader(dataset, batch_size=batch_size,\n",
    "                    num_workers=num_workers, shuffle=shuffle, pin_memory=pin_memory)\n",
    "    while True:\n",
    "        for batch in dl:\n",
    "            yield batch\n",
    "\n",
    "# === Main Experiment Loop ===\n",
    "# For each algorithm, train on increasing dataset sizes, track metrics, and save/load best model.\n",
    "\n",
    "val_loader = DataLoader(val_dataset, batch_size=BATCH_SIZE, shuffle=False, num_workers=NUM_WORKERS, pin_memory=True)\n",
    "test_loader = DataLoader(test_dataset, batch_size=BATCH_SIZE, shuffle=False, num_workers=NUM_WORKERS, pin_memory=True)\n",
    "\n",
    "\n",
    "for ALGO_NAME in LEARNERS:\n",
    "    print(f\"\\n=== Learner: {ALGO_NAME} ===\")\n",
    "    \n",
    "    try:\n",
    "        # --- Setup hyperparameters for current algorithm ---\n",
    "        hparams = hparams_registry.default_hparams(ALGO_NAME, DATASET_NAME)\n",
    "        hparams.update(base_hparams)\n",
    "\n",
    "        # --- Reset metric containers for current algorithm ---\n",
    "        val_loss_map[ALGO_NAME] = []\n",
    "        train_loss_map[ALGO_NAME] = []\n",
    "        test_loss_map[ALGO_NAME] = []\n",
    "        worst_group_acc_map[ALGO_NAME] = []\n",
    "        test_acc_map[ALGO_NAME] = []\n",
    "\n",
    "        # --- Loop over different training set sizes ---\n",
    "        for size in dataset_sizes:\n",
    "            print(f\"\\n--- Training {ALGO_NAME} with size={size} ---\")\n",
    "            \n",
    "            try:\n",
    "                # Prepare data subset for current size\n",
    "                if USE_STRATIFIED:\n",
    "                    subset_indices = w(group_to_indices, size, rng=np.random.default_rng(0 + size))\n",
    "                else:\n",
    "                    subset_indices = indices[:size]\n",
    "                \n",
    "                train_subset = Subset(train_dataset, subset_indices)\n",
    "\n",
    "                train_minibatches_iterator = infinite_loader(train_subset, batch_size=BATCH_SIZE, num_workers=NUM_WORKERS, shuffle=True, pin_memory=True)\n",
    "\n",
    "                # --- Initialize algorithm/model ---\n",
    "                # Attach attributes to subset for convenience\n",
    "                if hasattr(train_subset, 'dataset'):\n",
    "                    for attr in ['INPUT_SHAPE', 'num_labels', 'num_attributes', 'data_type', 'N_STEPS']:\n",
    "                        if hasattr(train_subset.dataset, attr):\n",
    "                            setattr(train_subset, attr, getattr(train_subset.dataset, attr))\n",
    "\n",
    "                input_shape = train_dataset.INPUT_SHAPE\n",
    "                num_labels = train_dataset.num_labels\n",
    "                num_attributes = train_dataset.num_attributes\n",
    "                data_type = getattr(train_dataset, 'data_type', 'images')\n",
    "\n",
    "                AlgorithmClass = algorithms.get_algorithm_class(ALGO_NAME)\n",
    "                algo = AlgorithmClass(data_type, input_shape, num_labels, num_attributes, len(train_subset), hparams)\n",
    "                if hasattr(algo, 'to'):\n",
    "                    algo = algo.to(DEVICE)\n",
    "\n",
    "                print(f\"[Init] size={size} | algo={ALGO_NAME} | data_type={data_type} | input_shape={input_shape} | labels={num_labels} | attrs={num_attributes} | stratified={USE_STRATIFIED}\")\n",
    "\n",
    "                # --- Training loop with early stopping ---\n",
    "                n_steps = getattr(train_dataset, 'N_STEPS', size)\n",
    "                checkpoint_freq = max(20, math.ceil(len(train_subset) / BATCH_SIZE)) #process at least 20 batches at minimum between evaluation\n",
    "\n",
    "                best_val = float('inf')\n",
    "                bad_checks = 0\n",
    "\n",
    "                ckpt_dir = os.path.join(result_dir, 'checkpoints', ALGO_NAME)\n",
    "                os.makedirs(ckpt_dir, exist_ok=True)\n",
    "                best_model_path = os.path.join(ckpt_dir, f'best_model_{ALGO_NAME}_size{size}.pt')\n",
    "\n",
    "                train_losses_epoch = []\n",
    "\n",
    "                algo.train()\n",
    "                \n",
    "                pbar = tqdm(range(n_steps), desc=f\"Train size={size} ({ALGO_NAME})\", leave=False)\n",
    "\n",
    "                for step in pbar:\n",
    "                    try:\n",
    "                        # --- Training step ---\n",
    "                        i, x, y, a = next(train_minibatches_iterator)\n",
    "                        x, y, a = x.to(DEVICE), y.to(DEVICE), a.to(DEVICE)\n",
    "\n",
    "                        # Robust training step with error handling\n",
    "                        try:\n",
    "                            loss_dict = algo.update((i, x, y, a), step)\n",
    "                            cur_loss = safe_extract_loss(loss_dict)\n",
    "                            train_losses_epoch.append(cur_loss)\n",
    "                            #logger.info(f\"Step {step} | Algo: {ALGO_NAME} | Size: {size} | Train loss: {cur_loss}\")\n",
    "                        except Exception as e:\n",
    "                            logger.warning(f\"[Warning] Training step {step} failed: {e}\")\n",
    "                            cur_loss = float('nan')\n",
    "                            train_losses_epoch.append(cur_loss)\n",
    "\n",
    "                        # --- Validation checkpoint (once per epoch) ---\n",
    "                        do_check = ((step + 1) % checkpoint_freq == 0)\n",
    "                        if do_check:\n",
    "                            try:\n",
    "                                algo.eval()\n",
    "                                val_losses_step = []\n",
    "                                val_acc_step = []\n",
    "\n",
    "                                with torch.no_grad():\n",
    "                                    for i_val, x_val, y_val, a_val in tqdm(val_loader, desc=f\"Validation {ALGO_NAME}\", leave=False):\n",
    "                                        try:\n",
    "                                            x_val, y_val, a_val = x_val.to(DEVICE), y_val.to(DEVICE), a_val.to(DEVICE)\n",
    "                                            y_pred, vloss = algo.predict(x_val, y_val, return_loss=True)\n",
    "\n",
    "                                            vloss_safe = safe_extract_loss(vloss)\n",
    "                                            val_losses_step.append(vloss_safe)\n",
    "\n",
    "                                            try:\n",
    "                                                if hasattr(algo, 'predict_labels'):\n",
    "                                                    y_hat = algo.predict_labels(x_val)\n",
    "                                                else:\n",
    "                                                    y_hat = y_pred.argmax(dim=-1) if y_pred.ndim > 1 else (y_pred > 0.5).long()\n",
    "                                                acc = float((y_hat == y_val).float().mean().item())\n",
    "                                                val_acc_step.append(acc)\n",
    "                                            except Exception as e:\n",
    "                                                logger.warning(f\"[Warning] Accuracy computation failed: {e}\")\n",
    "                                                val_acc_step.append(float('nan'))\n",
    "                                        except Exception as e:\n",
    "                                            logger.warning(f\"[Warning] Validation batch failed: {e}\")\n",
    "                                            val_losses_step.append(float('nan'))\n",
    "                                            val_acc_step.append(float('nan'))\n",
    "\n",
    "                                mean_val_loss = safe_mean(val_losses_step)\n",
    "                                mean_val_acc = safe_mean(val_acc_step)\n",
    "\n",
    "                                if np.isfinite(mean_val_loss) and np.isfinite(best_val):\n",
    "                                    improved = (best_val - mean_val_loss) > ES_MIN_DELTA\n",
    "                                    if improved:\n",
    "                                        best_val = mean_val_loss\n",
    "                                        bad_checks = 0\n",
    "                                        try:\n",
    "                                            torch.save(algo.state_dict(), best_model_path)\n",
    "                                        except Exception as e:\n",
    "                                            logger.warning(f\"[Warning] Failed to save checkpoint: {e}\")\n",
    "                                    else:\n",
    "                                        bad_checks += 1\n",
    "                                elif np.isfinite(mean_val_loss):\n",
    "                                    best_val = mean_val_loss\n",
    "                                    bad_checks = 0\n",
    "                                    try:\n",
    "                                        torch.save(algo.state_dict(), best_model_path)\n",
    "                                    except Exception as e:\n",
    "                                        logger.warning(f\"[Warning] Failed to save checkpoint: {e}\")\n",
    "\n",
    "                                # Print progress info instead of using progress bar\n",
    "                                pbar.set_postfix({\n",
    "                                    'train_loss': cur_loss if np.isfinite(cur_loss) else 'NaN',\n",
    "                                    'val_loss': mean_val_loss if np.isfinite(mean_val_loss) else 'NaN',\n",
    "                                    'val_acc': mean_val_acc if np.isfinite(mean_val_acc) else 'NaN',\n",
    "                                    'best_val': best_val if np.isfinite(best_val) else 'NaN',\n",
    "                                    'pat': f\"{bad_checks}/{ES_PATIENCE}\"\n",
    "                                })\n",
    "                                algo.train()\n",
    "\n",
    "                                if bad_checks >= ES_PATIENCE:\n",
    "                                    print(f\"[EarlyStop] size={size} | algo={ALGO_NAME} | step={step+1} | best_val={best_val:.4f}\")\n",
    "                                    break\n",
    "                            except Exception as e:\n",
    "                                logger.warning(f\"[Warning] Validation checkpoint failed at step {step}: {e}\")\n",
    "                                algo.train()  # Ensure we're back in training mode\n",
    "\n",
    "                    except Exception as e:\n",
    "                        logger.warning(f\"[Warning] Step {step} failed entirely: {e}\")\n",
    "                        continue\n",
    "\n",
    "                val_loss_map[ALGO_NAME].append(best_val if np.isfinite(best_val) else float('nan'))\n",
    "                train_loss_map[ALGO_NAME].append(safe_mean(train_losses_epoch))\n",
    "\n",
    "                try:\n",
    "                    if os.path.exists(best_model_path):\n",
    "                        algo.load_state_dict(torch.load(best_model_path, map_location=DEVICE))\n",
    "                        print(f\"[Info] Loaded best model from {best_model_path}\")\n",
    "                    else:\n",
    "                        print(f\"[Warning] No checkpoint found at {best_model_path}, using current model\")\n",
    "                except Exception as e:\n",
    "                    logger.warning(f\"[Warning] Failed to load checkpoint: {e}\")\n",
    "\n",
    "                try:\n",
    "                    algo.eval()\n",
    "                    metrics = eval_metrics(algo, test_loader, DEVICE)\n",
    "\n",
    "                    test_bce = float('nan')\n",
    "                    test_acc = float('nan')\n",
    "                    worst_group_acc = float('nan')\n",
    "\n",
    "                    if isinstance(metrics, dict):\n",
    "                        overall_metrics = metrics.get('overall', {})\n",
    "                        if isinstance(overall_metrics, dict):\n",
    "                            test_bce = overall_metrics.get('BCE', float('nan'))\n",
    "                            test_acc = overall_metrics.get('accuracy', float('nan'))\n",
    "\n",
    "                        min_group_metrics = metrics.get('min_group', {})\n",
    "                        if isinstance(min_group_metrics, dict):\n",
    "                            worst_group_acc = min_group_metrics.get('accuracy', float('nan'))\n",
    "\n",
    "                    test_loss_map[ALGO_NAME].append(test_bce)\n",
    "                    test_acc_map[ALGO_NAME].append(test_acc)\n",
    "                    worst_group_acc_map[ALGO_NAME].append(worst_group_acc)\n",
    "\n",
    "                    print(f\"[Test Results] | test_acc={test_acc:.4f} | worst_group_acc={worst_group_acc:.4f} | test_bce={test_bce:.4f}\")\n",
    "                \n",
    "                except Exception as e:\n",
    "                    logger.warning(f\"[Warning] Test evaluation failed for {ALGO_NAME} size={size}: {e}\")\n",
    "                    test_loss_map[ALGO_NAME].append(float('nan'))\n",
    "                    test_acc_map[ALGO_NAME].append(float('nan'))\n",
    "                    worst_group_acc_map[ALGO_NAME].append(float('nan'))\n",
    "            \n",
    "            except Exception as e:\n",
    "                logger.error(f\"[Error] Training failed for {ALGO_NAME} size={size}: {e}\")\n",
    "                val_loss_map[ALGO_NAME].append(float('nan'))\n",
    "                train_loss_map[ALGO_NAME].append(float('nan'))\n",
    "                test_loss_map[ALGO_NAME].append(float('nan'))\n",
    "                test_acc_map[ALGO_NAME].append(float('nan'))\n",
    "                worst_group_acc_map[ALGO_NAME].append(float('nan'))\n",
    "    \n",
    "    except Exception as e:\n",
    "        logger.error(f\"[Error] Algorithm {ALGO_NAME} failed entirely: {e}\")\n",
    "        for map_dict in [val_loss_map, train_loss_map, test_loss_map, test_acc_map, worst_group_acc_map]:\n",
    "            if ALGO_NAME not in map_dict:\n",
    "                map_dict[ALGO_NAME] = [float('nan')] * len(dataset_sizes)\n",
    "\n",
    "print(\"\\n=== Training Complete ===\")"
   ]
  },
  {
   "cell_type": "markdown",
   "id": "9437998c",
   "metadata": {},
   "source": [
    "## Results and plots\n",
    "\n",
    "Validation CE and training loss across learners and dataset sizes."
   ]
  },
  {
   "cell_type": "code",
   "execution_count": null,
   "id": "93bef28f",
   "metadata": {},
   "outputs": [
    {
     "name": "stderr",
     "output_type": "stream",
     "text": [
      "/tmp/ipykernel_1210504/1802682219.py:99: UserWarning: linestyle is redundantly defined by the 'linestyle' keyword argument and the fmt string \"-o\" (-> linestyle='-'). The keyword argument will take precedence.\n",
      "  ax3.plot(x_vals, y_vals, '-o', label=f'{alg} Test Acc', color=alg_colors[alg], linestyle='-')\n",
      "/tmp/ipykernel_1210504/1802682219.py:107: UserWarning: linestyle is redundantly defined by the 'linestyle' keyword argument and the fmt string \"--s\" (-> linestyle='--'). The keyword argument will take precedence.\n",
      "  ax3.plot(x_vals, y_vals, '--s', label=f'{alg} Worst Group Acc', color=alg_colors[alg], linestyle='--')\n"
     ]
    },
    {
     "name": "stdout",
     "output_type": "stream",
     "text": [
      "[savefig] Saved figure to results/20250910-171807/plots/cmnist_summary_metrics_0.5_spur0.1.png\n",
      "[Info] Plot saved successfully: results/20250910-171807/plots/cmnist_summary_metrics_0.5_spur0.1.png\n"
     ]
    },
    {
     "data": {
      "image/png": "[encoded data removed]",
      "text/plain": [
       "<Figure size 2100x500 with 3 Axes>"
      ]
     },
     "metadata": {},
     "output_type": "display_data"
    },
    {
     "name": "stdout",
     "output_type": "stream",
     "text": [
      "PCL curve results saved to results/20250910-171807/../../data/pcl_curve_seed0_attr0p5_spur0p1.csv\n",
      "\n",
      "=== Results Summary for CMNIST ===\n",
      "\n",
      "ERM:\n",
      "  Valid validation losses: 2/2\n",
      "  Valid test accuracies: 2/2\n",
      "  Valid worst group accuracies: 2/2\n",
      "  Best test accuracy: 0.4900\n",
      "  Best worst group accuracy: 0.0000\n"
     ]
    }
   ],
   "source": [
    "# Plot results\n",
    "import itertools\n",
    "from subpopbench.utils.plotting import savefig\n",
    "import warnings\n",
    "import os\n",
    "import pandas as pd\n",
    "\n",
    "# Helper function to filter out NaN values for plotting\n",
    "def filter_finite_values(x_vals, y_vals):\n",
    "    \"\"\"Filter out NaN/inf values for plotting and align x/y lengths\"\"\"\n",
    "    y_vals = np.array(y_vals)\n",
    "    x_vals = np.array(x_vals[:len(y_vals)])  # Align x to y length\n",
    "    finite_mask = np.isfinite(y_vals)\n",
    "    return x_vals[finite_mask], y_vals[finite_mask]\n",
    "\n",
    "fig, axes = plt.subplots(1, 3, figsize=(21, 5), sharex=True)\n",
    "\n",
    "# Get color cycle for consistent coloring\n",
    "color_cycle = itertools.cycle(plt.rcParams['axes.prop_cycle'].by_key()['color'])\n",
    "alg_colors = {alg: next(color_cycle) for alg in LEARNERS}\n",
    "\n",
    "# Prepare results DataFrame for PCL curve\n",
    "pcl_records = []\n",
    "\n",
    "# Validation loss\n",
    "ax = axes[0]\n",
    "for alg in LEARNERS:\n",
    "    try:\n",
    "        if alg in val_loss_map and val_loss_map[alg]:\n",
    "            x_vals, y_vals = filter_finite_values(dataset_sizes, val_loss_map[alg])\n",
    "            test_loss_vals = test_loss_map.get(alg, [])\n",
    "            test_acc_vals = test_acc_map.get(alg, [])\n",
    "            worst_group_acc_vals = worst_group_acc_map.get(alg, [])\n",
    "            for i, (x, y) in enumerate(zip(x_vals, y_vals)):\n",
    "                # Use index i for corresponding test metrics\n",
    "                test_loss = test_loss_vals[i] if i < len(test_loss_vals) else float('nan')\n",
    "                test_acc = test_acc_vals[i] if i < len(test_acc_vals) else float('nan')\n",
    "                worst_group_acc = worst_group_acc_vals[i] if i < len(worst_group_acc_vals) else float('nan')\n",
    "                pcl_records.append({\n",
    "                    'learner': alg,\n",
    "                    'train_size': x,\n",
    "                    'val_loss': y,\n",
    "                    'test_loss': test_loss,\n",
    "                    'test_acc': test_acc,\n",
    "                    'worst_group_acc': worst_group_acc,\n",
    "                    'cmnist_attr_prob': base_hparams.get('cmnist_attr_prob'),\n",
    "                    'cmnist_spur_prob': base_hparams.get('cmnist_spur_prob'),\n",
    "                    'seed': seed\n",
    "                })\n",
    "            if len(x_vals) > 0:\n",
    "                ax.errorbar(x_vals, y_vals, fmt='-o', capsize=4, label=alg, color=alg_colors[alg])\n",
    "            else:\n",
    "                print(f\"[Warning] No valid validation loss data for {alg}\")\n",
    "        else:\n",
    "            print(f\"[Warning] No validation loss data found for {alg}\")\n",
    "    except Exception as e:\n",
    "        print(f\"[Warning] Failed to plot validation loss for {alg}: {e}\")\n",
    "\n",
    "ax.set_xlabel('Training Set Size')\n",
    "ax.set_ylabel('Validation Loss')\n",
    "ax.set_ylim(0, 1)\n",
    "ax.set_xscale('log')\n",
    "ax.set_xlim(left=min(dataset_sizes))\n",
    "ax.set_title(f'{DATASET_NAME} — Validation Loss vs. Train Size')\n",
    "ax.grid(True)\n",
    "ax.legend(title='Learner')\n",
    "\n",
    "# Test loss (only overall test loss)\n",
    "ax2 = axes[1]\n",
    "for alg in LEARNERS:\n",
    "    try:\n",
    "        if alg in test_loss_map and test_loss_map[alg]:\n",
    "            x_vals, y_vals = filter_finite_values(dataset_sizes, test_loss_map[alg])\n",
    "            if len(x_vals) > 0:\n",
    "                ax2.errorbar(x_vals, y_vals, fmt='-o', capsize=4, label=f'{alg} Test Loss', color=alg_colors[alg])\n",
    "            else:\n",
    "                print(f\"[Warning] No valid test loss data for {alg}\")\n",
    "        else:\n",
    "            print(f\"[Warning] No test loss data found for {alg}\")\n",
    "    except Exception as e:\n",
    "        print(f\"[Warning] Failed to plot test loss for {alg}: {e}\")\n",
    "\n",
    "ax2.set_xlabel('Training Set Size')\n",
    "ax2.set_ylabel('Test Loss')\n",
    "ax2.set_xscale('log')\n",
    "ax2.set_xlim(left=min(dataset_sizes))\n",
    "ax2.set_title(f'{DATASET_NAME} — Test Loss vs. Train Size')\n",
    "ax2.grid(True)\n",
    "ax2.legend(title='Learner')\n",
    "\n",
    "# Test accuracy and worst-group accuracy\n",
    "ax3 = axes[2]\n",
    "for alg in LEARNERS:\n",
    "    try:\n",
    "        # Plot test accuracy\n",
    "        if alg in test_acc_map and test_acc_map[alg]:\n",
    "            x_vals, y_vals = filter_finite_values(dataset_sizes, test_acc_map[alg])\n",
    "            if len(x_vals) > 0:\n",
    "                ax3.plot(x_vals, y_vals, '-o', label=f'{alg} Test Acc', color=alg_colors[alg], linestyle='-')\n",
    "            else:\n",
    "                print(f\"[Warning] No valid test accuracy data for {alg}\")\n",
    "        \n",
    "        # Plot worst group accuracy\n",
    "        if alg in worst_group_acc_map and worst_group_acc_map[alg]:\n",
    "            x_vals, y_vals = filter_finite_values(dataset_sizes, worst_group_acc_map[alg])\n",
    "            if len(x_vals) > 0:\n",
    "                ax3.plot(x_vals, y_vals, '--s', label=f'{alg} Worst Group Acc', color=alg_colors[alg], linestyle='--')\n",
    "            else:\n",
    "                print(f\"[Warning] No valid worst group accuracy data for {alg}\")\n",
    "                \n",
    "    except Exception as e:\n",
    "        print(f\"[Warning] Failed to plot accuracy metrics for {alg}: {e}\")\n",
    "\n",
    "ax3.set_xlabel('Training Set Size')\n",
    "ax3.set_ylabel('Test Accuracy / Worst Group Accuracy')\n",
    "ax3.set_xscale('log')\n",
    "ax3.set_xlim(left=min(dataset_sizes))\n",
    "ax3.set_ylim(0, 1)\n",
    "ax3.set_title(f'{DATASET_NAME} — Test Acc & Worst Group Acc vs. Train Size')\n",
    "ax3.grid(True)\n",
    "ax3.legend(title='Metric')\n",
    "\n",
    "plt.tight_layout()\n",
    "\n",
    "# Save figure with error handling\n",
    "plot_dir = os.path.join(result_dir, \"plots\")\n",
    "os.makedirs(plot_dir, exist_ok=True)\n",
    "plot_path = os.path.join(plot_dir, f'{DATASET_NAME.lower()}_summary_metrics_{base_hparams.get(\"cmnist_attr_prob\")}_spur{base_hparams.get(\"cmnist_spur_prob\")}.png')\n",
    "try:\n",
    "    savefig(plot_path, fig=fig)\n",
    "    print(f\"[Info] Plot saved successfully: {plot_path}\")\n",
    "except Exception as e:\n",
    "    print(f\"[Warning] Failed to save plot: {e}\")\n",
    "\n",
    "plt.show()\n",
    "\n",
    "# Save PCL curve results to CSV\n",
    "table_dir = os.path.join(result_dir, \"../../data\")\n",
    "os.makedirs(table_dir, exist_ok=True)\n",
    "attr_prob_str = str(base_hparams.get('cmnist_attr_prob')).replace('.', 'p')\n",
    "spur_prob_str = str(base_hparams.get('cmnist_spur_prob')).replace('.', 'p')\n",
    "csv_filename = f\"{table_dir}/pcl_curve_seed{seed}_attr{attr_prob_str}_spur{spur_prob_str}.csv\"\n",
    "pcl_df = pd.DataFrame(pcl_records)\n",
    "pcl_df.to_csv(csv_filename, index=False)\n",
    "print(f\"PCL curve results saved to {csv_filename}\")\n",
    "\n",
    "# Print summary of results\n",
    "print(f\"\\n=== Results Summary for {DATASET_NAME} ===\")\n",
    "for alg in LEARNERS:\n",
    "    print(f\"\\n{alg}:\")\n",
    "    try:\n",
    "        valid_val_losses = [x for x in val_loss_map.get(alg, []) if np.isfinite(x)]\n",
    "        valid_test_accs = [x for x in test_acc_map.get(alg, []) if np.isfinite(x)]\n",
    "        valid_worst_accs = [x for x in worst_group_acc_map.get(alg, []) if np.isfinite(x)]\n",
    "        \n",
    "        print(f\"  Valid validation losses: {len(valid_val_losses)}/{len(dataset_sizes)}\")\n",
    "        print(f\"  Valid test accuracies: {len(valid_test_accs)}/{len(dataset_sizes)}\")\n",
    "        print(f\"  Valid worst group accuracies: {len(valid_worst_accs)}/{len(dataset_sizes)}\")\n",
    "        \n",
    "        if valid_test_accs:\n",
    "            print(f\"  Best test accuracy: {max(valid_test_accs):.4f}\")\n",
    "        if valid_worst_accs:\n",
    "            print(f\"  Best worst group accuracy: {max(valid_worst_accs):.4f}\")\n",
    "    except Exception as e:\n",
    "        print(f\"  Error computing summary: {e}\")"
   ]
  },
  {
   "cell_type": "code",
   "execution_count": null,
   "id": "b63a88df",
   "metadata": {},
   "outputs": [
    {
     "name": "stdout",
     "output_type": "stream",
     "text": [
      "\n",
      "=== Error Summary ===\n",
      "No errors encountered!\n",
      "\n",
      "GPU memory cleared. Available memory: 47.8 GB\n",
      "Summary saved to: results/20250910-171807/summary_CMNIST.txt\n",
      "\n",
      "=== Experiment Complete ===\n"
     ]
    }
   ],
   "source": [
    "import pickle\n",
    "from datetime import datetime\n",
    "\n",
    "# Print error summary and cleanup\n",
    "print_error_summary(ERROR_LOG)\n",
    "\n",
    "# Memory cleanup\n",
    "if torch.cuda.is_available():\n",
    "    torch.cuda.empty_cache()\n",
    "    print(f\"\\nGPU memory cleared. Available memory: {torch.cuda.get_device_properties(0).total_memory / 1e9:.1f} GB\")\n",
    "\n",
    "try:\n",
    "    # Also save a human-readable summary\n",
    "    summary_file = os.path.join(result_dir, f\"summary_{DATASET_NAME}.txt\")\n",
    "    with open(summary_file, 'w') as f:\n",
    "        f.write(f\"Experiment Summary - {DATASET_NAME}\\n\")\n",
    "        f.write(f\"Learners: {LEARNERS}\\n\")\n",
    "        f.write(f\"Dataset sizes: {dataset_sizes}\\n\\n\")\n",
    "        \n",
    "        for alg in LEARNERS:\n",
    "            f.write(f\"\\n{alg} Results:\\n\")\n",
    "            f.write(\"-\" * 20 + \"\\n\")\n",
    "            \n",
    "            for i, size in enumerate(dataset_sizes):\n",
    "                f.write(f\"Size {size}:\\n\")\n",
    "                f.write(f\"  Val Loss: {val_loss_map.get(alg, [float('nan')] * len(dataset_sizes))[i]:.4f}\\n\")\n",
    "                f.write(f\"  Test Acc: {test_acc_map.get(alg, [float('nan')] * len(dataset_sizes))[i]:.4f}\\n\")\n",
    "                f.write(f\"  Worst Group Acc: {worst_group_acc_map.get(alg, [float('nan')] * len(dataset_sizes))[i]:.4f}\\n\")\n",
    "        \n",
    "        # Add error summary\n",
    "        f.write(f\"\\n\\nError Summary:\\n\")\n",
    "        f.write(\"=\" * 30 + \"\\n\")\n",
    "        total_errors = sum(len(errors) for error_dict in ERROR_LOG.values() for errors in error_dict.values())\n",
    "        f.write(f\"Total errors encountered: {total_errors}\\n\")\n",
    "        \n",
    "        for error_type, errors in ERROR_LOG.items():\n",
    "            if errors:\n",
    "                f.write(f\"\\n{error_type.replace('_', ' ').title()}:\\n\")\n",
    "                for context, error_list in errors.items():\n",
    "                    f.write(f\"  {context}: {len(error_list)} errors\\n\")\n",
    "    \n",
    "    print(f\"Summary saved to: {summary_file}\")\n",
    "    \n",
    "except Exception as e:\n",
    "    print(f\"Warning: Failed to save summary: {e}\")\n",
    "\n",
    "print(\"\\n=== Experiment Complete ===\")"
   ]
  },
  {
   "cell_type": "code",
   "execution_count": null,
   "id": "3964e6ec",
   "metadata": {},
   "outputs": [],
   "source": [
    "#  jupyter nbconvert --to notebook --execute subpopbench/pcl.ipynb --output executed_notebook.ipynb\n",
    "# [NbConvertApp] Converting notebook subpopbench/pcl.ipynb to notebook"
   ]
  }
 ],
 "metadata": {
  "kernelspec": {
   "display_name": "XRM",
   "language": "python",
   "name": "python3"
  },
  "language_info": {
   "codemirror_mode": {
    "name": "ipython",
    "version": 3
   },
   "file_extension": ".py",
   "mimetype": "text/x-python",
   "name": "python",
   "nbconvert_exporter": "python",
   "pygments_lexer": "ipython3",
   "version": "3.12.11"
  }
 },
 "nbformat": 4,
 "nbformat_minor": 5
}
