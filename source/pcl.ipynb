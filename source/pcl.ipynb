{
 "cells": [
  {
   "cell_type": "markdown",
   "id": "e4cd1b81",
   "metadata": {},
   "source": [
    "# PCL Experiment Notebook\n",
    "\n",
    "Train algorithms on increasing dataset sizes and plot risk/likelihood."
   ]
  },
  {
   "cell_type": "markdown",
   "id": "0cbf6cf4",
   "metadata": {},
   "source": [
    "## Setup\n",
    "\n",
    "Environment, imports, device selection, and reproducibility seeds."
   ]
  },
  {
   "cell_type": "code",
   "execution_count": 4,
   "id": "b518c902",
   "metadata": {},
   "outputs": [
    {
     "name": "stdout",
     "output_type": "stream",
     "text": [
      "Using device: cuda\n",
      "Using seed: 0\n"
     ]
    }
   ],
   "source": [
    "# Imports and path setup\n",
    "import sys\n",
    "from pathlib import Path\n",
    "import torch\n",
    "import torch.nn.functional as F\n",
    "import numpy as np\n",
    "import matplotlib.pyplot as plt\n",
    "import random\n",
    "import os\n",
    "\n",
    "# Add project root to path if needed (before importing project modules)\n",
    "sys.path.append(str(Path('..').resolve()))\n",
    "\n",
    "from source.dataset import datasets\n",
    "from source.learning import algorithms\n",
    "from torch.utils.data import DataLoader, Subset\n",
    "from tqdm import tqdm\n",
    "from itertools import cycle\n",
    "from source import hparams_registry\n",
    "from source.utils.eval_helper import eval_metrics\n",
    "\n",
    "# Select device: use GPU if available\n",
    "DEVICE = torch.device('cuda' if torch.cuda.is_available() else 'cpu')\n",
    "print(f'Using device: {DEVICE}')\n",
    "\n",
    "# Reproducibility\n",
    "seed = int(os.environ.get('SEED', 0))\n",
    "torch.manual_seed(seed)\n",
    "np.random.seed(seed)\n",
    "random.seed(seed)\n",
    "if DEVICE.type == 'cuda':\n",
    "    torch.cuda.manual_seed_all(seed)\n",
    "print(f'Using seed: {seed}')"
   ]
  },
  {
   "cell_type": "code",
   "execution_count": 5,
   "id": "d669f4f4",
   "metadata": {},
   "outputs": [
    {
     "name": "stdout",
     "output_type": "stream",
     "text": [
      "Utility functions for robust error handling loaded successfully.\n"
     ]
    }
   ],
   "source": [
    "# Utility functions for robust error handling\n",
    "import logging\n",
    "import warnings\n",
    "# Configure logging for better error tracking\n",
    "\n",
    "# Import utility functions from misc.py\n",
    "from source.utils.misc import print_error_summary, group_counts, build_group_index, w, safe_mean, safe_extract_loss, is_running_in_vscode,  InfiniteDataLoader\n",
    "print(\"Utility functions for robust error handling loaded successfully.\")"
   ]
  },
  {
   "cell_type": "markdown",
   "id": "ad476be2",
   "metadata": {},
   "source": [
    "## Experiment configuration\n",
    "\n",
    "Dataset choice, learners, and result containers."
   ]
  },
  {
   "cell_type": "code",
   "execution_count": 6,
   "id": "195cc4ce",
   "metadata": {},
   "outputs": [
    {
     "name": "stdout",
     "output_type": "stream",
     "text": [
      "Config:\n",
      "  Dataset: CMNIST\n",
      "  Learners: ['GroupDRO', 'ERM']\n",
      "  Data path: /home/mila/t/tom.marty/scratch/data/benchmark\n",
      "  Stratified sampling: True\n",
      "  Debug mode: False\n"
     ]
    }
   ],
   "source": [
    "DEBUG = False\n",
    "\n",
    "# Experiment config\n",
    "DATASET_NAME = 'CMNIST'\n",
    "DATA_PATH = '/home/mila/t/tom.marty/scratch/data/benchmark'\n",
    "LEARNERS =  ['GroupDRO', 'ERM'] # ['GroupDRO','ERM', 'DFR', 'IRM','ReSample']  # invariant learners to compare\n",
    "NETWORK_NAME = 'MLP'  # éither 'MLP' or pre-trained 'ResNet'\n",
    "BATCH_SIZE = 128\n",
    "NUM_FIT = 7 # number of points in the PCL curve\n",
    "NUM_WORKERS = 0\n",
    "\n",
    "USE_STRATIFIED = True # Toggle: use stratified (label, attr) sampling such that the class ratio is preserved\n",
    "ROBUST_TRAINING = True  # Enable robust error handling\n",
    "MAX_RETRIES = 3  # Maximum number of retries for failed operations\n",
    "CONTINUE_ON_ERROR = True  # Continue with next algorithm/size if current fails\n",
    "SAVE_PARTIAL_RESULTS = True  # Save results even if some experiments fail\n",
    "\n",
    "# Early stopping configuration\n",
    "ES_MIN_DELTA = 0.0       # minimum improvement to reset \n",
    "ES_PATIENCE = 3         # checkpoints without improvement before stopping\n",
    "if DEBUG:\n",
    "    ES_PATIENCE = 0\n",
    "    LEARNERS = ['ERM']  # only run ERM in debug mode \n",
    "\n",
    "print('Config:')\n",
    "print(f'  Dataset: {DATASET_NAME}')\n",
    "print(f'  Learners: {LEARNERS}')\n",
    "print(f'  Data path: {DATA_PATH}')\n",
    "print(f'  Stratified sampling: {USE_STRATIFIED}')\n",
    "print(f'  Debug mode: {DEBUG}')\n",
    "\n",
    "# Prepare per-learner results storage\n",
    "val_loss_map = {alg: [] for alg in LEARNERS}           # validation loss means (best)\n",
    "train_loss_map = {alg: [] for alg in LEARNERS}        # training loss mean (per size)\n",
    "test_loss_map  = {alg: [] for alg in LEARNERS}        # test loss means (final model)\n",
    "test_acc_map = {alg: [] for alg in LEARNERS}          # test accuracy\n",
    "worst_group_acc_map = {alg: [] for alg in LEARNERS}   # test worst-group accuracy\n",
    "group_acc_map = {alg: [] for alg in LEARNERS}         # all group accuracies per algorithm and size"
   ]
  },
  {
   "cell_type": "markdown",
   "id": "64d32c5c",
   "metadata": {},
   "source": [
    "## Hyperparameters\n",
    "\n",
    "Defaults and dataset-specific overrides."
   ]
  },
  {
   "cell_type": "code",
   "execution_count": 7,
   "id": "55ebcc60",
   "metadata": {},
   "outputs": [],
   "source": [
    "# Hyperparameters template\n",
    "import os\n",
    "from source.utils.misc import safe_float_env\n",
    "\n",
    "# We'll derive specific hparams per learner in the training loop\n",
    "base_hparams = hparams_registry.default_hparams('ERM', DATASET_NAME)\n",
    "if NETWORK_NAME == 'ResNet':\n",
    "    base_hparams.update({\n",
    "        'image_arch': 'resnet_sup_in1k',\n",
    "        'pretrained': True,\n",
    "        'input_size': 224\n",
    "    })\n",
    "elif NETWORK_NAME == 'MLP':\n",
    "    base_hparams.update({\n",
    "        'image_arch': 'simple_mlp',\n",
    "        'input_size': 28,\n",
    "        'lr': 1e-3,\n",
    "    })\n",
    "\n",
    "\n",
    "\"\"\"\n",
    "Colored MNIST specific hyperparameters:\n",
    "- cmnist_label_prob: Probability of label imbalance (default 0.5)\n",
    "- cmnist_attr_prob: Probability of attribute imbalance (default 0.5)\n",
    "- cmnist_spur_prob: Controls the summed diagonal proportion (0,1). The more this is towards 0, the more the color is spuriously correlated with the label. \n",
    "\n",
    "\"\"\"\n",
    "\n",
    "cminist_label_prob = safe_float_env(\"CMNIST_LABEL_PROB\", 0.5)\n",
    "cmnist_attr_prob = safe_float_env(\"CMNIST_ATTR_PROB\", 0.5)\n",
    "\n",
    "cmnist_spur_prob = safe_float_env(\"CMNIST_SPUR_PROB\", 0.1)\n",
    "\n",
    "if DATASET_NAME == 'CMNIST':\n",
    "    base_hparams.update({\n",
    "        'cmnist_label_prob': cminist_label_prob,\n",
    "        'cmnist_attr_prob': cmnist_attr_prob, \n",
    "        'cmnist_spur_prob': cmnist_spur_prob,\n",
    "        'cmnist_flip_prob': 0.0,\n",
    "    })\n",
    "\n"
   ]
  },
  {
   "cell_type": "markdown",
   "id": "85799a7a",
   "metadata": {},
   "source": [
    "## Datasets\n",
    "\n",
    "Load train/val/test splits and preview samples."
   ]
  },
  {
   "cell_type": "code",
   "execution_count": 8,
   "id": "aa12b7aa",
   "metadata": {},
   "outputs": [
    {
     "name": "stdout",
     "output_type": "stream",
     "text": [
      "Datasets:\n",
      "  Train size: 30000 | Val size: 10000 | Test size: 20000 (restricted)\n",
      "  Input shape: (3, 28, 28) | data_type: images\n",
      "  num_labels: 2 | num_attributes: 2\n",
      "Stratified groups (counts): {(0, 0): 13849, (0, 1): 1482, (1, 0): 1480, (1, 1): 13189}\n",
      "\n",
      "Class distribution:\n",
      "       count  percentage\n",
      "class                   \n",
      "0      15331        51.1\n",
      "1      14669        48.9\n",
      "\n",
      "Attribute distribution:\n",
      "           count  percentage\n",
      "attribute                   \n",
      "0          15329        51.1\n",
      "1          14671        48.9\n",
      "\n",
      "Group (class, attribute) distribution:\n",
      "                 count  percentage\n",
      "class attribute                   \n",
      "0     0          13849       46.16\n",
      "      1           1482        4.94\n",
      "1     0           1480        4.93\n",
      "      1          13189       43.96\n"
     ]
    },
    {
     "name": "stderr",
     "output_type": "stream",
     "text": [
      "\n",
      "A module that was compiled using NumPy 1.x cannot be run in\n",
      "NumPy 2.3.2 as it may crash. To support both 1.x and 2.x\n",
      "versions of NumPy, modules must be compiled with NumPy 2.0.\n",
      "Some module may need to rebuild instead e.g. with 'pybind11>=2.12'.\n",
      "\n",
      "If you are a user of the module, the easiest solution will be to\n",
      "downgrade to 'numpy<2' or try to upgrade the affected module.\n",
      "We expect that some modules will need time to support NumPy 2.\n",
      "\n",
      "Traceback (most recent call last):  File \"<frozen runpy>\", line 198, in _run_module_as_main\n",
      "  File \"<frozen runpy>\", line 88, in _run_code\n",
      "  File \"/home/mila/t/tom.marty/invariant_bench/.venv/lib/python3.12/site-packages/ipykernel_launcher.py\", line 18, in <module>\n",
      "    app.launch_new_instance()\n",
      "  File \"/home/mila/t/tom.marty/invariant_bench/.venv/lib/python3.12/site-packages/traitlets/config/application.py\", line 1075, in launch_instance\n",
      "    app.start()\n",
      "  File \"/home/mila/t/tom.marty/invariant_bench/.venv/lib/python3.12/site-packages/ipykernel/kernelapp.py\", line 739, in start\n",
      "    self.io_loop.start()\n",
      "  File \"/home/mila/t/tom.marty/invariant_bench/.venv/lib/python3.12/site-packages/tornado/platform/asyncio.py\", line 211, in start\n",
      "    self.asyncio_loop.run_forever()\n",
      "  File \"/home/mila/t/tom.marty/.local/share/uv/python/cpython-3.12.11-linux-x86_64-gnu/lib/python3.12/asyncio/base_events.py\", line 645, in run_forever\n",
      "    self._run_once()\n",
      "  File \"/home/mila/t/tom.marty/.local/share/uv/python/cpython-3.12.11-linux-x86_64-gnu/lib/python3.12/asyncio/base_events.py\", line 1999, in _run_once\n",
      "    handle._run()\n",
      "  File \"/home/mila/t/tom.marty/.local/share/uv/python/cpython-3.12.11-linux-x86_64-gnu/lib/python3.12/asyncio/events.py\", line 88, in _run\n",
      "    self._context.run(self._callback, *self._args)\n",
      "  File \"/home/mila/t/tom.marty/invariant_bench/.venv/lib/python3.12/site-packages/ipykernel/kernelbase.py\", line 519, in dispatch_queue\n",
      "    await self.process_one()\n",
      "  File \"/home/mila/t/tom.marty/invariant_bench/.venv/lib/python3.12/site-packages/ipykernel/kernelbase.py\", line 508, in process_one\n",
      "    await dispatch(*args)\n",
      "  File \"/home/mila/t/tom.marty/invariant_bench/.venv/lib/python3.12/site-packages/ipykernel/kernelbase.py\", line 400, in dispatch_shell\n",
      "    await result\n",
      "  File \"/home/mila/t/tom.marty/invariant_bench/.venv/lib/python3.12/site-packages/ipykernel/ipkernel.py\", line 368, in execute_request\n",
      "    await super().execute_request(stream, ident, parent)\n",
      "  File \"/home/mila/t/tom.marty/invariant_bench/.venv/lib/python3.12/site-packages/ipykernel/kernelbase.py\", line 767, in execute_request\n",
      "    reply_content = await reply_content\n",
      "  File \"/home/mila/t/tom.marty/invariant_bench/.venv/lib/python3.12/site-packages/ipykernel/ipkernel.py\", line 455, in do_execute\n",
      "    res = shell.run_cell(\n",
      "  File \"/home/mila/t/tom.marty/invariant_bench/.venv/lib/python3.12/site-packages/ipykernel/zmqshell.py\", line 577, in run_cell\n",
      "    return super().run_cell(*args, **kwargs)\n",
      "  File \"/home/mila/t/tom.marty/invariant_bench/.venv/lib/python3.12/site-packages/IPython/core/interactiveshell.py\", line 3116, in run_cell\n",
      "    result = self._run_cell(\n",
      "  File \"/home/mila/t/tom.marty/invariant_bench/.venv/lib/python3.12/site-packages/IPython/core/interactiveshell.py\", line 3171, in _run_cell\n",
      "    result = runner(coro)\n",
      "  File \"/home/mila/t/tom.marty/invariant_bench/.venv/lib/python3.12/site-packages/IPython/core/async_helpers.py\", line 128, in _pseudo_sync_runner\n",
      "    coro.send(None)\n",
      "  File \"/home/mila/t/tom.marty/invariant_bench/.venv/lib/python3.12/site-packages/IPython/core/interactiveshell.py\", line 3394, in run_cell_async\n",
      "    has_raised = await self.run_ast_nodes(code_ast.body, cell_name,\n",
      "  File \"/home/mila/t/tom.marty/invariant_bench/.venv/lib/python3.12/site-packages/IPython/core/interactiveshell.py\", line 3639, in run_ast_nodes\n",
      "    if await self.run_code(code, result, async_=asy):\n",
      "  File \"/home/mila/t/tom.marty/invariant_bench/.venv/lib/python3.12/site-packages/IPython/core/interactiveshell.py\", line 3699, in run_code\n",
      "    exec(code_obj, self.user_global_ns, self.user_ns)\n",
      "  File \"/tmp/ipykernel_1309028/773286658.py\", line 86, in <module>\n",
      "    fig, axes = plt.subplots(5, 5, figsize=(8, 8))\n",
      "  File \"/home/mila/t/tom.marty/invariant_bench/.venv/lib/python3.12/site-packages/matplotlib/pyplot.py\", line 1777, in subplots\n",
      "    Setting limits turns autoscaling off for the x-axis.\n",
      "  File \"/home/mila/t/tom.marty/invariant_bench/.venv/lib/python3.12/site-packages/matplotlib/pyplot.py\", line 1042, in figure\n",
      "    @_docstring.dedent_interpd\n",
      "  File \"/home/mila/t/tom.marty/invariant_bench/.venv/lib/python3.12/site-packages/matplotlib/pyplot.py\", line 551, in new_figure_manager\n",
      "    \"\"\"\n",
      "  File \"/home/mila/t/tom.marty/invariant_bench/.venv/lib/python3.12/site-packages/matplotlib/pyplot.py\", line 528, in _warn_if_gui_out_of_main_thread\n",
      "    isinteractive : Whether interactive mode is enabled.\n",
      "  File \"/home/mila/t/tom.marty/invariant_bench/.venv/lib/python3.12/site-packages/matplotlib/pyplot.py\", line 369, in _get_backend_mod\n",
      "    else:\n",
      "  File \"/home/mila/t/tom.marty/invariant_bench/.venv/lib/python3.12/site-packages/matplotlib/pyplot.py\", line 425, in switch_backend\n",
      "    savefig : Save the figure to an image file instead of showing it on screen.\n",
      "  File \"/home/mila/t/tom.marty/invariant_bench/.venv/lib/python3.12/site-packages/matplotlib/backends/registry.py\", line 317, in load_backend_module\n",
      "  File \"/home/mila/t/tom.marty/.local/share/uv/python/cpython-3.12.11-linux-x86_64-gnu/lib/python3.12/importlib/__init__.py\", line 90, in import_module\n",
      "    return _bootstrap._gcd_import(name[level:], package, level)\n",
      "  File \"/home/mila/t/tom.marty/invariant_bench/.venv/lib/python3.12/site-packages/matplotlib_inline/__init__.py\", line 1, in <module>\n",
      "    from . import backend_inline, config  # noqa\n",
      "  File \"/home/mila/t/tom.marty/invariant_bench/.venv/lib/python3.12/site-packages/matplotlib_inline/backend_inline.py\", line 8, in <module>\n",
      "    from matplotlib.backends import backend_agg\n",
      "  File \"/home/mila/t/tom.marty/invariant_bench/.venv/lib/python3.12/site-packages/matplotlib/backends/backend_agg.py\", line 40, in <module>\n",
      "    from matplotlib.backends._backend_agg import RendererAgg as _RendererAgg\n"
     ]
    },
    {
     "ename": "ImportError",
     "evalue": "\nA module that was compiled using NumPy 1.x cannot be run in\nNumPy 2.3.2 as it may crash. To support both 1.x and 2.x\nversions of NumPy, modules must be compiled with NumPy 2.0.\nSome module may need to rebuild instead e.g. with 'pybind11>=2.12'.\n\nIf you are a user of the module, the easiest solution will be to\ndowngrade to 'numpy<2' or try to upgrade the affected module.\nWe expect that some modules will need time to support NumPy 2.\n\n",
     "output_type": "error",
     "traceback": [
      "\u001b[31m---------------------------------------------------------------------------\u001b[39m",
      "\u001b[31mImportError\u001b[39m                               Traceback (most recent call last)",
      "\u001b[36mFile \u001b[39m\u001b[32m~/invariant_bench/.venv/lib/python3.12/site-packages/numpy/core/_multiarray_umath.py:46\u001b[39m, in \u001b[36m__getattr__\u001b[39m\u001b[34m(attr_name)\u001b[39m\n\u001b[32m     41\u001b[39m     \u001b[38;5;66;03m# Also print the message (with traceback).  This is because old versions\u001b[39;00m\n\u001b[32m     42\u001b[39m     \u001b[38;5;66;03m# of NumPy unfortunately set up the import to replace (and hide) the\u001b[39;00m\n\u001b[32m     43\u001b[39m     \u001b[38;5;66;03m# error.  The traceback shouldn't be needed, but e.g. pytest plugins\u001b[39;00m\n\u001b[32m     44\u001b[39m     \u001b[38;5;66;03m# seem to swallow it and we should be failing anyway...\u001b[39;00m\n\u001b[32m     45\u001b[39m     sys.stderr.write(msg + tb_msg)\n\u001b[32m---> \u001b[39m\u001b[32m46\u001b[39m     \u001b[38;5;28;01mraise\u001b[39;00m \u001b[38;5;167;01mImportError\u001b[39;00m(msg)\n\u001b[32m     48\u001b[39m ret = \u001b[38;5;28mgetattr\u001b[39m(_multiarray_umath, attr_name, \u001b[38;5;28;01mNone\u001b[39;00m)\n\u001b[32m     49\u001b[39m \u001b[38;5;28;01mif\u001b[39;00m ret \u001b[38;5;129;01mis\u001b[39;00m \u001b[38;5;28;01mNone\u001b[39;00m:\n",
      "\u001b[31mImportError\u001b[39m: \nA module that was compiled using NumPy 1.x cannot be run in\nNumPy 2.3.2 as it may crash. To support both 1.x and 2.x\nversions of NumPy, modules must be compiled with NumPy 2.0.\nSome module may need to rebuild instead e.g. with 'pybind11>=2.12'.\n\nIf you are a user of the module, the easiest solution will be to\ndowngrade to 'numpy<2' or try to upgrade the affected module.\nWe expect that some modules will need time to support NumPy 2.\n\n"
     ]
    },
    {
     "ename": "ImportError",
     "evalue": "numpy.core.multiarray failed to import",
     "output_type": "error",
     "traceback": [
      "\u001b[31m---------------------------------------------------------------------------\u001b[39m",
      "\u001b[31mImportError\u001b[39m                               Traceback (most recent call last)",
      "\u001b[36mCell\u001b[39m\u001b[36m \u001b[39m\u001b[32mIn[8]\u001b[39m\u001b[32m, line 86\u001b[39m\n\u001b[32m     84\u001b[39m \u001b[38;5;66;03m# Preview a few samples (images only)\u001b[39;00m\n\u001b[32m     85\u001b[39m \u001b[38;5;28;01mif\u001b[39;00m data_type == \u001b[33m'\u001b[39m\u001b[33mimages\u001b[39m\u001b[33m'\u001b[39m:\n\u001b[32m---> \u001b[39m\u001b[32m86\u001b[39m     fig, axes = \u001b[43mplt\u001b[49m\u001b[43m.\u001b[49m\u001b[43msubplots\u001b[49m\u001b[43m(\u001b[49m\u001b[32;43m5\u001b[39;49m\u001b[43m,\u001b[49m\u001b[43m \u001b[49m\u001b[32;43m5\u001b[39;49m\u001b[43m,\u001b[49m\u001b[43m \u001b[49m\u001b[43mfigsize\u001b[49m\u001b[43m=\u001b[49m\u001b[43m(\u001b[49m\u001b[32;43m8\u001b[39;49m\u001b[43m,\u001b[49m\u001b[43m \u001b[49m\u001b[32;43m8\u001b[39;49m\u001b[43m)\u001b[49m\u001b[43m)\u001b[49m\n\u001b[32m     87\u001b[39m     axes = axes.flatten()\n\u001b[32m     89\u001b[39m     \u001b[38;5;28;01mfor\u001b[39;00m k, ax \u001b[38;5;129;01min\u001b[39;00m \u001b[38;5;28menumerate\u001b[39m(axes):\n",
      "\u001b[36mFile \u001b[39m\u001b[32m~/invariant_bench/.venv/lib/python3.12/site-packages/matplotlib/pyplot.py:1777\u001b[39m, in \u001b[36msubplots\u001b[39m\u001b[34m(nrows, ncols, sharex, sharey, squeeze, width_ratios, height_ratios, subplot_kw, gridspec_kw, **fig_kw)\u001b[39m\n\u001b[32m   1761\u001b[39m \u001b[38;5;28;01mdef\u001b[39;00m\u001b[38;5;250m \u001b[39m\u001b[34mxlim\u001b[39m(*args, **kwargs):\n\u001b[32m   1762\u001b[39m \u001b[38;5;250m    \u001b[39m\u001b[33;03m\"\"\"\u001b[39;00m\n\u001b[32m   1763\u001b[39m \u001b[33;03m    Get or set the x limits of the current axes.\u001b[39;00m\n\u001b[32m   1764\u001b[39m \n\u001b[32m   1765\u001b[39m \u001b[33;03m    Call signatures::\u001b[39;00m\n\u001b[32m   1766\u001b[39m \n\u001b[32m   1767\u001b[39m \u001b[33;03m        left, right = xlim()  # return the current xlim\u001b[39;00m\n\u001b[32m   1768\u001b[39m \u001b[33;03m        xlim((left, right))   # set the xlim to left, right\u001b[39;00m\n\u001b[32m   1769\u001b[39m \u001b[33;03m        xlim(left, right)     # set the xlim to left, right\u001b[39;00m\n\u001b[32m   1770\u001b[39m \n\u001b[32m   1771\u001b[39m \u001b[33;03m    If you do not specify args, you can pass *left* or *right* as kwargs,\u001b[39;00m\n\u001b[32m   1772\u001b[39m \u001b[33;03m    i.e.::\u001b[39;00m\n\u001b[32m   1773\u001b[39m \n\u001b[32m   1774\u001b[39m \u001b[33;03m        xlim(right=3)  # adjust the right leaving left unchanged\u001b[39;00m\n\u001b[32m   1775\u001b[39m \u001b[33;03m        xlim(left=1)  # adjust the left leaving right unchanged\u001b[39;00m\n\u001b[32m   1776\u001b[39m \n\u001b[32m-> \u001b[39m\u001b[32m1777\u001b[39m \u001b[33;03m    Setting limits turns autoscaling off for the x-axis.\u001b[39;00m\n\u001b[32m   1778\u001b[39m \n\u001b[32m   1779\u001b[39m \u001b[33;03m    Returns\u001b[39;00m\n\u001b[32m   1780\u001b[39m \u001b[33;03m    -------\u001b[39;00m\n\u001b[32m   1781\u001b[39m \u001b[33;03m    left, right\u001b[39;00m\n\u001b[32m   1782\u001b[39m \u001b[33;03m        A tuple of the new x-axis limits.\u001b[39;00m\n\u001b[32m   1783\u001b[39m \n\u001b[32m   1784\u001b[39m \u001b[33;03m    Notes\u001b[39;00m\n\u001b[32m   1785\u001b[39m \u001b[33;03m    -----\u001b[39;00m\n\u001b[32m   1786\u001b[39m \u001b[33;03m    Calling this function with no arguments (e.g. ``xlim()``) is the pyplot\u001b[39;00m\n\u001b[32m   1787\u001b[39m \u001b[33;03m    equivalent of calling `~.Axes.get_xlim` on the current axes.\u001b[39;00m\n\u001b[32m   1788\u001b[39m \u001b[33;03m    Calling this function with arguments is the pyplot equivalent of calling\u001b[39;00m\n\u001b[32m   1789\u001b[39m \u001b[33;03m    `~.Axes.set_xlim` on the current axes. All arguments are passed though.\u001b[39;00m\n\u001b[32m   1790\u001b[39m \u001b[33;03m    \"\"\"\u001b[39;00m\n\u001b[32m   1791\u001b[39m     ax = gca()\n\u001b[32m   1792\u001b[39m     \u001b[38;5;28;01mif\u001b[39;00m \u001b[38;5;129;01mnot\u001b[39;00m args \u001b[38;5;129;01mand\u001b[39;00m \u001b[38;5;129;01mnot\u001b[39;00m kwargs:\n",
      "\u001b[36mFile \u001b[39m\u001b[32m~/invariant_bench/.venv/lib/python3.12/site-packages/matplotlib/pyplot.py:1042\u001b[39m, in \u001b[36mfigure\u001b[39m\u001b[34m(num, figsize, dpi, facecolor, edgecolor, frameon, FigureClass, clear, **kwargs)\u001b[39m\n\u001b[32m   1034\u001b[39m     figlegend.\u001b[34m__doc__\u001b[39m = Figure.legend.\u001b[34m__doc__\u001b[39m \\\n\u001b[32m   1035\u001b[39m         .replace(\u001b[33m\"\u001b[39m\u001b[33m legend(\u001b[39m\u001b[33m\"\u001b[39m, \u001b[33m\"\u001b[39m\u001b[33m figlegend(\u001b[39m\u001b[33m\"\u001b[39m) \\\n\u001b[32m   1036\u001b[39m         .replace(\u001b[33m\"\u001b[39m\u001b[33mfig.legend(\u001b[39m\u001b[33m\"\u001b[39m, \u001b[33m\"\u001b[39m\u001b[33mplt.figlegend(\u001b[39m\u001b[33m\"\u001b[39m) \\\n\u001b[32m   1037\u001b[39m         .replace(\u001b[33m\"\u001b[39m\u001b[33max.plot(\u001b[39m\u001b[33m\"\u001b[39m, \u001b[33m\"\u001b[39m\u001b[33mplt.plot(\u001b[39m\u001b[33m\"\u001b[39m)\n\u001b[32m   1040\u001b[39m \u001b[38;5;66;03m## Axes ##\u001b[39;00m\n\u001b[32m-> \u001b[39m\u001b[32m1042\u001b[39m \u001b[38;5;129m@_docstring\u001b[39m.dedent_interpd\n\u001b[32m   1043\u001b[39m \u001b[38;5;28;01mdef\u001b[39;00m\u001b[38;5;250m \u001b[39m\u001b[34maxes\u001b[39m(arg=\u001b[38;5;28;01mNone\u001b[39;00m, **kwargs):\n\u001b[32m   1044\u001b[39m \u001b[38;5;250m    \u001b[39m\u001b[33;03m\"\"\"\u001b[39;00m\n\u001b[32m   1045\u001b[39m \u001b[33;03m    Add an Axes to the current figure and make it the current Axes.\u001b[39;00m\n\u001b[32m   1046\u001b[39m \n\u001b[32m   (...)\u001b[39m\u001b[32m   1116\u001b[39m \u001b[33;03m        plt.axes((left, bottom, width, height), facecolor='grey')\u001b[39;00m\n\u001b[32m   1117\u001b[39m \u001b[33;03m    \"\"\"\u001b[39;00m\n\u001b[32m   1118\u001b[39m     fig = gcf()\n",
      "\u001b[36mFile \u001b[39m\u001b[32m~/invariant_bench/.venv/lib/python3.12/site-packages/matplotlib/pyplot.py:551\u001b[39m, in \u001b[36mnew_figure_manager\u001b[39m\u001b[34m(*args, **kwargs)\u001b[39m\n\u001b[32m    519\u001b[39m \u001b[38;5;28;01mdef\u001b[39;00m\u001b[38;5;250m \u001b[39m\u001b[34mion\u001b[39m():\n\u001b[32m    520\u001b[39m \u001b[38;5;250m    \u001b[39m\u001b[33;03m\"\"\"\u001b[39;00m\n\u001b[32m    521\u001b[39m \u001b[33;03m    Enable interactive mode.\u001b[39;00m\n\u001b[32m    522\u001b[39m \n\u001b[32m    523\u001b[39m \u001b[33;03m    See `.pyplot.isinteractive` for more details.\u001b[39;00m\n\u001b[32m    524\u001b[39m \n\u001b[32m    525\u001b[39m \u001b[33;03m    See Also\u001b[39;00m\n\u001b[32m    526\u001b[39m \u001b[33;03m    --------\u001b[39;00m\n\u001b[32m    527\u001b[39m \u001b[33;03m    ioff : Disable interactive mode.\u001b[39;00m\n\u001b[32m    528\u001b[39m \u001b[33;03m    isinteractive : Whether interactive mode is enabled.\u001b[39;00m\n\u001b[32m    529\u001b[39m \u001b[33;03m    show : Show all figures (and maybe block).\u001b[39;00m\n\u001b[32m    530\u001b[39m \u001b[33;03m    pause : Show all figures, and block for a time.\u001b[39;00m\n\u001b[32m    531\u001b[39m \n\u001b[32m    532\u001b[39m \u001b[33;03m    Notes\u001b[39;00m\n\u001b[32m    533\u001b[39m \u001b[33;03m    -----\u001b[39;00m\n\u001b[32m    534\u001b[39m \u001b[33;03m    For a temporary change, this can be used as a context manager::\u001b[39;00m\n\u001b[32m    535\u001b[39m \n\u001b[32m    536\u001b[39m \u001b[33;03m        # if interactive mode is off\u001b[39;00m\n\u001b[32m    537\u001b[39m \u001b[33;03m        # then figures will not be shown on creation\u001b[39;00m\n\u001b[32m    538\u001b[39m \u001b[33;03m        plt.ioff()\u001b[39;00m\n\u001b[32m    539\u001b[39m \u001b[33;03m        # This figure will not be shown immediately\u001b[39;00m\n\u001b[32m    540\u001b[39m \u001b[33;03m        fig = plt.figure()\u001b[39;00m\n\u001b[32m    541\u001b[39m \n\u001b[32m    542\u001b[39m \u001b[33;03m        with plt.ion():\u001b[39;00m\n\u001b[32m    543\u001b[39m \u001b[33;03m            # interactive mode will be on\u001b[39;00m\n\u001b[32m    544\u001b[39m \u001b[33;03m            # figures will automatically be shown\u001b[39;00m\n\u001b[32m    545\u001b[39m \u001b[33;03m            fig2 = plt.figure()\u001b[39;00m\n\u001b[32m    546\u001b[39m \u001b[33;03m            # ...\u001b[39;00m\n\u001b[32m    547\u001b[39m \n\u001b[32m    548\u001b[39m \u001b[33;03m    To enable optional usage as a context manager, this function returns a\u001b[39;00m\n\u001b[32m    549\u001b[39m \u001b[33;03m    `~contextlib.ExitStack` object, which is not intended to be stored or\u001b[39;00m\n\u001b[32m    550\u001b[39m \u001b[33;03m    accessed by the user.\u001b[39;00m\n\u001b[32m--> \u001b[39m\u001b[32m551\u001b[39m \u001b[33;03m    \"\"\"\u001b[39;00m\n\u001b[32m    552\u001b[39m     stack = ExitStack()\n\u001b[32m    553\u001b[39m     stack.callback(ion \u001b[38;5;28;01mif\u001b[39;00m isinteractive() \u001b[38;5;28;01melse\u001b[39;00m ioff)\n",
      "\u001b[36mFile \u001b[39m\u001b[32m~/invariant_bench/.venv/lib/python3.12/site-packages/matplotlib/pyplot.py:528\u001b[39m, in \u001b[36m_warn_if_gui_out_of_main_thread\u001b[39m\u001b[34m()\u001b[39m\n\u001b[32m    519\u001b[39m \u001b[38;5;28;01mdef\u001b[39;00m\u001b[38;5;250m \u001b[39m\u001b[34mion\u001b[39m():\n\u001b[32m    520\u001b[39m \u001b[38;5;250m    \u001b[39m\u001b[33;03m\"\"\"\u001b[39;00m\n\u001b[32m    521\u001b[39m \u001b[33;03m    Enable interactive mode.\u001b[39;00m\n\u001b[32m    522\u001b[39m \n\u001b[32m    523\u001b[39m \u001b[33;03m    See `.pyplot.isinteractive` for more details.\u001b[39;00m\n\u001b[32m    524\u001b[39m \n\u001b[32m    525\u001b[39m \u001b[33;03m    See Also\u001b[39;00m\n\u001b[32m    526\u001b[39m \u001b[33;03m    --------\u001b[39;00m\n\u001b[32m    527\u001b[39m \u001b[33;03m    ioff : Disable interactive mode.\u001b[39;00m\n\u001b[32m--> \u001b[39m\u001b[32m528\u001b[39m \u001b[33;03m    isinteractive : Whether interactive mode is enabled.\u001b[39;00m\n\u001b[32m    529\u001b[39m \u001b[33;03m    show : Show all figures (and maybe block).\u001b[39;00m\n\u001b[32m    530\u001b[39m \u001b[33;03m    pause : Show all figures, and block for a time.\u001b[39;00m\n\u001b[32m    531\u001b[39m \n\u001b[32m    532\u001b[39m \u001b[33;03m    Notes\u001b[39;00m\n\u001b[32m    533\u001b[39m \u001b[33;03m    -----\u001b[39;00m\n\u001b[32m    534\u001b[39m \u001b[33;03m    For a temporary change, this can be used as a context manager::\u001b[39;00m\n\u001b[32m    535\u001b[39m \n\u001b[32m    536\u001b[39m \u001b[33;03m        # if interactive mode is off\u001b[39;00m\n\u001b[32m    537\u001b[39m \u001b[33;03m        # then figures will not be shown on creation\u001b[39;00m\n\u001b[32m    538\u001b[39m \u001b[33;03m        plt.ioff()\u001b[39;00m\n\u001b[32m    539\u001b[39m \u001b[33;03m        # This figure will not be shown immediately\u001b[39;00m\n\u001b[32m    540\u001b[39m \u001b[33;03m        fig = plt.figure()\u001b[39;00m\n\u001b[32m    541\u001b[39m \n\u001b[32m    542\u001b[39m \u001b[33;03m        with plt.ion():\u001b[39;00m\n\u001b[32m    543\u001b[39m \u001b[33;03m            # interactive mode will be on\u001b[39;00m\n\u001b[32m    544\u001b[39m \u001b[33;03m            # figures will automatically be shown\u001b[39;00m\n\u001b[32m    545\u001b[39m \u001b[33;03m            fig2 = plt.figure()\u001b[39;00m\n\u001b[32m    546\u001b[39m \u001b[33;03m            # ...\u001b[39;00m\n\u001b[32m    547\u001b[39m \n\u001b[32m    548\u001b[39m \u001b[33;03m    To enable optional usage as a context manager, this function returns a\u001b[39;00m\n\u001b[32m    549\u001b[39m \u001b[33;03m    `~contextlib.ExitStack` object, which is not intended to be stored or\u001b[39;00m\n\u001b[32m    550\u001b[39m \u001b[33;03m    accessed by the user.\u001b[39;00m\n\u001b[32m    551\u001b[39m \u001b[33;03m    \"\"\"\u001b[39;00m\n\u001b[32m    552\u001b[39m     stack = ExitStack()\n\u001b[32m    553\u001b[39m     stack.callback(ion \u001b[38;5;28;01mif\u001b[39;00m isinteractive() \u001b[38;5;28;01melse\u001b[39;00m ioff)\n",
      "\u001b[36mFile \u001b[39m\u001b[32m~/invariant_bench/.venv/lib/python3.12/site-packages/matplotlib/pyplot.py:369\u001b[39m, in \u001b[36m_get_backend_mod\u001b[39m\u001b[34m()\u001b[39m\n\u001b[32m    367\u001b[39m     if threading.get_native_id() != threading.main_thread().native_id:\n\u001b[32m    368\u001b[39m         warn = True\n\u001b[32m--> \u001b[39m\u001b[32m369\u001b[39m else:\n\u001b[32m    370\u001b[39m     # Fall back to Python-level Thread if native IDs are unavailable,\n\u001b[32m    371\u001b[39m     # mainly for PyPy.\n\u001b[32m    372\u001b[39m     if threading.current_thread() is not threading.main_thread():\n\u001b[32m    373\u001b[39m         warn = True\n",
      "\u001b[36mFile \u001b[39m\u001b[32m~/invariant_bench/.venv/lib/python3.12/site-packages/matplotlib/pyplot.py:425\u001b[39m, in \u001b[36mswitch_backend\u001b[39m\u001b[34m(newbackend)\u001b[39m\n\u001b[32m    401\u001b[39m \u001b[38;5;28;01mdef\u001b[39;00m\u001b[38;5;250m \u001b[39m\u001b[34mshow\u001b[39m(*args, **kwargs):\n\u001b[32m    402\u001b[39m \u001b[38;5;250m    \u001b[39m\u001b[33;03m\"\"\"\u001b[39;00m\n\u001b[32m    403\u001b[39m \u001b[33;03m    Display all open figures.\u001b[39;00m\n\u001b[32m    404\u001b[39m \n\u001b[32m    405\u001b[39m \u001b[33;03m    Parameters\u001b[39;00m\n\u001b[32m    406\u001b[39m \u001b[33;03m    ----------\u001b[39;00m\n\u001b[32m    407\u001b[39m \u001b[33;03m    block : bool, optional\u001b[39;00m\n\u001b[32m    408\u001b[39m \u001b[33;03m        Whether to wait for all figures to be closed before returning.\u001b[39;00m\n\u001b[32m    409\u001b[39m \n\u001b[32m    410\u001b[39m \u001b[33;03m        If `True` block and run the GUI main loop until all figure windows\u001b[39;00m\n\u001b[32m    411\u001b[39m \u001b[33;03m        are closed.\u001b[39;00m\n\u001b[32m    412\u001b[39m \n\u001b[32m    413\u001b[39m \u001b[33;03m        If `False` ensure that all figure windows are displayed and return\u001b[39;00m\n\u001b[32m    414\u001b[39m \u001b[33;03m        immediately.  In this case, you are responsible for ensuring\u001b[39;00m\n\u001b[32m    415\u001b[39m \u001b[33;03m        that the event loop is running to have responsive figures.\u001b[39;00m\n\u001b[32m    416\u001b[39m \n\u001b[32m    417\u001b[39m \u001b[33;03m        Defaults to True in non-interactive mode and to False in interactive\u001b[39;00m\n\u001b[32m    418\u001b[39m \u001b[33;03m        mode (see `.pyplot.isinteractive`).\u001b[39;00m\n\u001b[32m    419\u001b[39m \n\u001b[32m    420\u001b[39m \u001b[33;03m    See Also\u001b[39;00m\n\u001b[32m    421\u001b[39m \u001b[33;03m    --------\u001b[39;00m\n\u001b[32m    422\u001b[39m \u001b[33;03m    ion : Enable interactive mode, which shows / updates the figure after\u001b[39;00m\n\u001b[32m    423\u001b[39m \u001b[33;03m          every plotting command, so that calling ``show()`` is not necessary.\u001b[39;00m\n\u001b[32m    424\u001b[39m \u001b[33;03m    ioff : Disable interactive mode.\u001b[39;00m\n\u001b[32m--> \u001b[39m\u001b[32m425\u001b[39m \u001b[33;03m    savefig : Save the figure to an image file instead of showing it on screen.\u001b[39;00m\n\u001b[32m    426\u001b[39m \n\u001b[32m    427\u001b[39m \u001b[33;03m    Notes\u001b[39;00m\n\u001b[32m    428\u001b[39m \u001b[33;03m    -----\u001b[39;00m\n\u001b[32m    429\u001b[39m \u001b[33;03m    **Saving figures to file and showing a window at the same time**\u001b[39;00m\n\u001b[32m    430\u001b[39m \n\u001b[32m    431\u001b[39m \u001b[33;03m    If you want an image file as well as a user interface window, use\u001b[39;00m\n\u001b[32m    432\u001b[39m \u001b[33;03m    `.pyplot.savefig` before `.pyplot.show`. At the end of (a blocking)\u001b[39;00m\n\u001b[32m    433\u001b[39m \u001b[33;03m    ``show()`` the figure is closed and thus unregistered from pyplot. Calling\u001b[39;00m\n\u001b[32m    434\u001b[39m \u001b[33;03m    `.pyplot.savefig` afterwards would save a new and thus empty figure. This\u001b[39;00m\n\u001b[32m    435\u001b[39m \u001b[33;03m    limitation of command order does not apply if the show is non-blocking or\u001b[39;00m\n\u001b[32m    436\u001b[39m \u001b[33;03m    if you keep a reference to the figure and use `.Figure.savefig`.\u001b[39;00m\n\u001b[32m    437\u001b[39m \n\u001b[32m    438\u001b[39m \u001b[33;03m    **Auto-show in jupyter notebooks**\u001b[39;00m\n\u001b[32m    439\u001b[39m \n\u001b[32m    440\u001b[39m \u001b[33;03m    The jupyter backends (activated via ``%matplotlib inline``,\u001b[39;00m\n\u001b[32m    441\u001b[39m \u001b[33;03m    ``%matplotlib notebook``, or ``%matplotlib widget``), call ``show()`` at\u001b[39;00m\n\u001b[32m    442\u001b[39m \u001b[33;03m    the end of every cell by default. Thus, you usually don't have to call it\u001b[39;00m\n\u001b[32m    443\u001b[39m \u001b[33;03m    explicitly there.\u001b[39;00m\n\u001b[32m    444\u001b[39m \u001b[33;03m    \"\"\"\u001b[39;00m\n\u001b[32m    445\u001b[39m     _warn_if_gui_out_of_main_thread()\n\u001b[32m    446\u001b[39m     \u001b[38;5;28;01mreturn\u001b[39;00m _get_backend_mod().show(*args, **kwargs)\n",
      "\u001b[36mFile \u001b[39m\u001b[32m~/invariant_bench/.venv/lib/python3.12/site-packages/matplotlib/backends/registry.py:317\u001b[39m, in \u001b[36mload_backend_module\u001b[39m\u001b[34m(self, backend)\u001b[39m\n",
      "\u001b[36mFile \u001b[39m\u001b[32m~/.local/share/uv/python/cpython-3.12.11-linux-x86_64-gnu/lib/python3.12/importlib/__init__.py:90\u001b[39m, in \u001b[36mimport_module\u001b[39m\u001b[34m(name, package)\u001b[39m\n\u001b[32m     88\u001b[39m             \u001b[38;5;28;01mbreak\u001b[39;00m\n\u001b[32m     89\u001b[39m         level += \u001b[32m1\u001b[39m\n\u001b[32m---> \u001b[39m\u001b[32m90\u001b[39m \u001b[38;5;28;01mreturn\u001b[39;00m \u001b[43m_bootstrap\u001b[49m\u001b[43m.\u001b[49m\u001b[43m_gcd_import\u001b[49m\u001b[43m(\u001b[49m\u001b[43mname\u001b[49m\u001b[43m[\u001b[49m\u001b[43mlevel\u001b[49m\u001b[43m:\u001b[49m\u001b[43m]\u001b[49m\u001b[43m,\u001b[49m\u001b[43m \u001b[49m\u001b[43mpackage\u001b[49m\u001b[43m,\u001b[49m\u001b[43m \u001b[49m\u001b[43mlevel\u001b[49m\u001b[43m)\u001b[49m\n",
      "\u001b[36mFile \u001b[39m\u001b[32m<frozen importlib._bootstrap>:1387\u001b[39m, in \u001b[36m_gcd_import\u001b[39m\u001b[34m(name, package, level)\u001b[39m\n",
      "\u001b[36mFile \u001b[39m\u001b[32m<frozen importlib._bootstrap>:1360\u001b[39m, in \u001b[36m_find_and_load\u001b[39m\u001b[34m(name, import_)\u001b[39m\n",
      "\u001b[36mFile \u001b[39m\u001b[32m<frozen importlib._bootstrap>:1310\u001b[39m, in \u001b[36m_find_and_load_unlocked\u001b[39m\u001b[34m(name, import_)\u001b[39m\n",
      "\u001b[36mFile \u001b[39m\u001b[32m<frozen importlib._bootstrap>:488\u001b[39m, in \u001b[36m_call_with_frames_removed\u001b[39m\u001b[34m(f, *args, **kwds)\u001b[39m\n",
      "\u001b[36mFile \u001b[39m\u001b[32m<frozen importlib._bootstrap>:1387\u001b[39m, in \u001b[36m_gcd_import\u001b[39m\u001b[34m(name, package, level)\u001b[39m\n",
      "\u001b[36mFile \u001b[39m\u001b[32m<frozen importlib._bootstrap>:1360\u001b[39m, in \u001b[36m_find_and_load\u001b[39m\u001b[34m(name, import_)\u001b[39m\n",
      "\u001b[36mFile \u001b[39m\u001b[32m<frozen importlib._bootstrap>:1331\u001b[39m, in \u001b[36m_find_and_load_unlocked\u001b[39m\u001b[34m(name, import_)\u001b[39m\n",
      "\u001b[36mFile \u001b[39m\u001b[32m<frozen importlib._bootstrap>:935\u001b[39m, in \u001b[36m_load_unlocked\u001b[39m\u001b[34m(spec)\u001b[39m\n",
      "\u001b[36mFile \u001b[39m\u001b[32m<frozen importlib._bootstrap_external>:999\u001b[39m, in \u001b[36mexec_module\u001b[39m\u001b[34m(self, module)\u001b[39m\n",
      "\u001b[36mFile \u001b[39m\u001b[32m<frozen importlib._bootstrap>:488\u001b[39m, in \u001b[36m_call_with_frames_removed\u001b[39m\u001b[34m(f, *args, **kwds)\u001b[39m\n",
      "\u001b[36mFile \u001b[39m\u001b[32m~/invariant_bench/.venv/lib/python3.12/site-packages/matplotlib_inline/__init__.py:1\u001b[39m\n\u001b[32m----> \u001b[39m\u001b[32m1\u001b[39m \u001b[38;5;28;01mfrom\u001b[39;00m\u001b[38;5;250m \u001b[39m\u001b[34;01m.\u001b[39;00m\u001b[38;5;250m \u001b[39m\u001b[38;5;28;01mimport\u001b[39;00m backend_inline, config  \u001b[38;5;66;03m# noqa\u001b[39;00m\n\u001b[32m      2\u001b[39m __version__ = \u001b[33m\"\u001b[39m\u001b[33m0.1.7\u001b[39m\u001b[33m\"\u001b[39m  \u001b[38;5;66;03m# noqa\u001b[39;00m\n",
      "\u001b[36mFile \u001b[39m\u001b[32m~/invariant_bench/.venv/lib/python3.12/site-packages/matplotlib_inline/backend_inline.py:8\u001b[39m\n\u001b[32m      6\u001b[39m \u001b[38;5;28;01mimport\u001b[39;00m\u001b[38;5;250m \u001b[39m\u001b[34;01mmatplotlib\u001b[39;00m\n\u001b[32m      7\u001b[39m \u001b[38;5;28;01mfrom\u001b[39;00m\u001b[38;5;250m \u001b[39m\u001b[34;01mmatplotlib\u001b[39;00m\u001b[38;5;250m \u001b[39m\u001b[38;5;28;01mimport\u001b[39;00m colors\n\u001b[32m----> \u001b[39m\u001b[32m8\u001b[39m \u001b[38;5;28;01mfrom\u001b[39;00m\u001b[38;5;250m \u001b[39m\u001b[34;01mmatplotlib\u001b[39;00m\u001b[34;01m.\u001b[39;00m\u001b[34;01mbackends\u001b[39;00m\u001b[38;5;250m \u001b[39m\u001b[38;5;28;01mimport\u001b[39;00m backend_agg\n\u001b[32m      9\u001b[39m \u001b[38;5;28;01mfrom\u001b[39;00m\u001b[38;5;250m \u001b[39m\u001b[34;01mmatplotlib\u001b[39;00m\u001b[34;01m.\u001b[39;00m\u001b[34;01mbackends\u001b[39;00m\u001b[34;01m.\u001b[39;00m\u001b[34;01mbackend_agg\u001b[39;00m\u001b[38;5;250m \u001b[39m\u001b[38;5;28;01mimport\u001b[39;00m FigureCanvasAgg\n\u001b[32m     10\u001b[39m \u001b[38;5;28;01mfrom\u001b[39;00m\u001b[38;5;250m \u001b[39m\u001b[34;01mmatplotlib\u001b[39;00m\u001b[34;01m.\u001b[39;00m\u001b[34;01m_pylab_helpers\u001b[39;00m\u001b[38;5;250m \u001b[39m\u001b[38;5;28;01mimport\u001b[39;00m Gcf\n",
      "\u001b[36mFile \u001b[39m\u001b[32m~/invariant_bench/.venv/lib/python3.12/site-packages/matplotlib/backends/backend_agg.py:40\u001b[39m\n\u001b[32m     38\u001b[39m \u001b[38;5;28;01mfrom\u001b[39;00m\u001b[38;5;250m \u001b[39m\u001b[34;01mmatplotlib\u001b[39;00m\u001b[34;01m.\u001b[39;00m\u001b[34;01mpath\u001b[39;00m\u001b[38;5;250m \u001b[39m\u001b[38;5;28;01mimport\u001b[39;00m Path\n\u001b[32m     39\u001b[39m \u001b[38;5;28;01mfrom\u001b[39;00m\u001b[38;5;250m \u001b[39m\u001b[34;01mmatplotlib\u001b[39;00m\u001b[34;01m.\u001b[39;00m\u001b[34;01mtransforms\u001b[39;00m\u001b[38;5;250m \u001b[39m\u001b[38;5;28;01mimport\u001b[39;00m Bbox, BboxBase\n\u001b[32m---> \u001b[39m\u001b[32m40\u001b[39m \u001b[38;5;28;01mfrom\u001b[39;00m\u001b[38;5;250m \u001b[39m\u001b[34;01mmatplotlib\u001b[39;00m\u001b[34;01m.\u001b[39;00m\u001b[34;01mbackends\u001b[39;00m\u001b[34;01m.\u001b[39;00m\u001b[34;01m_backend_agg\u001b[39;00m\u001b[38;5;250m \u001b[39m\u001b[38;5;28;01mimport\u001b[39;00m RendererAgg \u001b[38;5;28;01mas\u001b[39;00m _RendererAgg\n\u001b[32m     43\u001b[39m \u001b[38;5;28;01mdef\u001b[39;00m\u001b[38;5;250m \u001b[39m\u001b[34mget_hinting_flag\u001b[39m():\n\u001b[32m     44\u001b[39m     mapping = {\n\u001b[32m     45\u001b[39m         \u001b[33m'\u001b[39m\u001b[33mdefault\u001b[39m\u001b[33m'\u001b[39m: LOAD_DEFAULT,\n\u001b[32m     46\u001b[39m         \u001b[33m'\u001b[39m\u001b[33mno_autohint\u001b[39m\u001b[33m'\u001b[39m: LOAD_NO_AUTOHINT,\n\u001b[32m   (...)\u001b[39m\u001b[32m     54\u001b[39m         \u001b[33m'\u001b[39m\u001b[33mnone\u001b[39m\u001b[33m'\u001b[39m: LOAD_NO_HINTING,\n\u001b[32m     55\u001b[39m     }\n",
      "\u001b[31mImportError\u001b[39m: numpy.core.multiarray failed to import"
     ]
    }
   ],
   "source": [
    "# Attach key attributes to Subset objects for easier access\n",
    "def attach_dataset_attributes(subset):\n",
    "    \"\"\" Attach key attributes from the underlying dataset to a Subset object.\"\"\"\n",
    "    if hasattr(subset, 'dataset'):\n",
    "        for attr in ['INPUT_SHAPE', 'num_labels', 'num_attributes', 'data_type']:\n",
    "            if hasattr(subset.dataset, attr):\n",
    "                setattr(subset, attr, getattr(subset.dataset, attr))\n",
    "\n",
    "# Datasets\n",
    "\n",
    "# Create a perfectly balanced test dataset (all probabilities set to 0.5)\n",
    "balanced_test_hparams = base_hparams.copy()\n",
    "balanced_test_hparams.update({\n",
    "    'cmnist_label_prob': 0.5,\n",
    "    'cmnist_attr_prob': 0.5,\n",
    "    'cmnist_spur_prob': 0.5,\n",
    "    'cmnist_flip_prob': 0.0\n",
    "})\n",
    "\n",
    "DatasetClass = getattr(datasets, DATASET_NAME)\n",
    "train_dataset = DatasetClass(DATA_PATH, 'tr', base_hparams)\n",
    "val_dataset = DatasetClass(DATA_PATH, 'va', base_hparams)\n",
    "test_dataset = DatasetClass(DATA_PATH, 'te', balanced_test_hparams)\n",
    "\n",
    "# If debug, reduce all datasets to size 100\n",
    "if DEBUG:\n",
    "    train_indices = random.sample(range(len(train_dataset)), min(100, len(train_dataset)))\n",
    "    val_indices = random.sample(range(len(val_dataset)), min(100, len(val_dataset)))\n",
    "    test_indices = random.sample(range(len(test_dataset)), min(100, len(test_dataset)))\n",
    "    train_dataset = Subset(train_dataset, train_indices)\n",
    "    val_dataset = Subset(val_dataset, val_indices)\n",
    "    test_dataset = Subset(test_dataset, test_indices)\n",
    "    dataset_sizes = [10, 100]\n",
    "else:\n",
    "    max_train_size = len(train_dataset)\n",
    "    dataset_sizes = np.logspace(1, np.log10(max_train_size), num=NUM_FIT, dtype=int).tolist()\n",
    "\n",
    "attach_dataset_attributes(train_dataset)\n",
    "attach_dataset_attributes(val_dataset)\n",
    "attach_dataset_attributes(test_dataset)\n",
    "\n",
    "indices = list(range(len(train_dataset)))\n",
    "random.shuffle(indices)\n",
    "\n",
    "input_shape = train_dataset.INPUT_SHAPE\n",
    "num_labels = train_dataset.num_labels\n",
    "num_attributes = train_dataset.num_attributes\n",
    "data_type = getattr(train_dataset, 'data_type', 'images')\n",
    "\n",
    "print('Datasets:')\n",
    "print(f'  Train size: {len(train_dataset)} | Val size: {len(val_dataset)} | Test size: {len(test_dataset)} (restricted)')\n",
    "print(f'  Input shape: {input_shape} | data_type: {data_type}')\n",
    "print(f'  num_labels: {num_labels} | num_attributes: {num_attributes}')\n",
    "\n",
    "    \n",
    "if USE_STRATIFIED:\n",
    "    group_to_indices = build_group_index(train_dataset)\n",
    "    group_counts_dict = {k: len(v) for k, v in sorted(group_to_indices.items())}\n",
    "    print('Stratified groups (counts):', group_counts_dict)\n",
    "\n",
    "    # Aggregate counts for each class and attribute\n",
    "    import pandas as pd\n",
    "    import numpy as np\n",
    "    df = pd.DataFrame([{'class': k[0], 'attribute': k[1], 'count': v} for k, v in group_counts_dict.items()])\n",
    "    class_counts = df.groupby('class')['count'].sum()\n",
    "    attr_counts = df.groupby('attribute')['count'].sum()\n",
    "    total = df['count'].sum()\n",
    "\n",
    "    print('\\nClass distribution:')\n",
    "    class_dist = df.groupby('class')['count'].sum().to_frame()\n",
    "    class_dist['percentage'] = (class_dist['count'] / total * 100).round(2)\n",
    "    print(class_dist.to_string())\n",
    "\n",
    "    print('\\nAttribute distribution:')\n",
    "    attr_dist = df.groupby('attribute')['count'].sum().to_frame()\n",
    "    attr_dist['percentage'] = (attr_dist['count'] / total * 100).round(2)\n",
    "    print(attr_dist.to_string())\n",
    "\n",
    "    print('\\nGroup (class, attribute) distribution:')\n",
    "    group_dist = df.set_index(['class','attribute'])\n",
    "    group_dist['percentage'] = (group_dist['count'] / total * 100).round(2)\n",
    "    print(group_dist.to_string())\n",
    "    \n",
    "# Preview a few samples (images only)\n",
    "if data_type == 'images':\n",
    "    fig, axes = plt.subplots(5, 5, figsize=(8, 8))\n",
    "    axes = axes.flatten()\n",
    "\n",
    "    for k, ax in enumerate(axes):\n",
    "        idx, x, y, a = train_dataset[k]\n",
    "        # Scale per-image to [0,1] for visualization\n",
    "        x_vis = x.detach().cpu()\n",
    "        x_min, x_max = x_vis.min(), x_vis.max()\n",
    "        x_vis = (x_vis - x_min) / (x_max - x_min + 1e-6)\n",
    "        ax.imshow(x_vis.permute(1, 2, 0))\n",
    "        ax.set_title(f'Label: {int(y)}, Attr: {int(a)}')\n",
    "        ax.axis('off')\n",
    "    plt.tight_layout()\n",
    "    plt.show()\n",
    "else:\n",
    "    print('Non-image dataset preview omitted.')\n"
   ]
  },
  {
   "cell_type": "markdown",
   "id": "d2caf311",
   "metadata": {},
   "source": [
    "### Dataset Analysis\n",
    "\n",
    "If `USE_STRATIFIED` is True, each training subset for a given size is drawn approximately proportional to the (label, attr) group counts in the full training set using the helper `w(...)`. This helps maintain group balance across different subset sizes. Set `USE_STRATIFIED = False` to revert to the earlier simple prefix-based random subset selection.\n"
   ]
  },
  {
   "cell_type": "code",
   "execution_count": null,
   "id": "61b9fcd8",
   "metadata": {},
   "outputs": [
    {
     "ename": "NameError",
     "evalue": "name 'train_dataset' is not defined",
     "output_type": "error",
     "traceback": [
      "\u001b[31m---------------------------------------------------------------------------\u001b[39m",
      "\u001b[31mNameError\u001b[39m                                 Traceback (most recent call last)",
      "\u001b[36mCell\u001b[39m\u001b[36m \u001b[39m\u001b[32mIn[6]\u001b[39m\u001b[32m, line 2\u001b[39m\n\u001b[32m      1\u001b[39m \u001b[38;5;66;03m# Run group coverage checks\u001b[39;00m\n\u001b[32m----> \u001b[39m\u001b[32m2\u001b[39m _ = group_counts(\u001b[43mtrain_dataset\u001b[49m, \u001b[33m'\u001b[39m\u001b[33mtrain\u001b[39m\u001b[33m'\u001b[39m)\n\u001b[32m      3\u001b[39m _ = group_counts(val_dataset, \u001b[33m'\u001b[39m\u001b[33mval\u001b[39m\u001b[33m'\u001b[39m)\n\u001b[32m      4\u001b[39m _ = group_counts(test_dataset, \u001b[33m'\u001b[39m\u001b[33mtest\u001b[39m\u001b[33m'\u001b[39m)\n",
      "\u001b[31mNameError\u001b[39m: name 'train_dataset' is not defined"
     ]
    },
    {
     "ename": "",
     "evalue": "",
     "output_type": "error",
     "traceback": [
      "\u001b[1;31mnotebook controller is DISPOSED. \n",
      "\u001b[1;31mView Jupyter <a href='command:jupyter.viewOutput'>log</a> for further details."
     ]
    },
    {
     "ename": "",
     "evalue": "",
     "output_type": "error",
     "traceback": [
      "\u001b[1;31mnotebook controller is DISPOSED. \n",
      "\u001b[1;31mView Jupyter <a href='command:jupyter.viewOutput'>log</a> for further details."
     ]
    },
    {
     "ename": "",
     "evalue": "",
     "output_type": "error",
     "traceback": [
      "\u001b[1;31mnotebook controller is DISPOSED. \n",
      "\u001b[1;31mView Jupyter <a href='command:jupyter.viewOutput'>log</a> for further details."
     ]
    }
   ],
   "source": [
    "# Run group coverage checks\n",
    "_ = group_counts(train_dataset, 'train')\n",
    "_ = group_counts(val_dataset, 'val')\n",
    "_ = group_counts(test_dataset, 'test')\n",
    "\n",
    "group_to_indices = build_group_index(train_dataset)"
   ]
  },
  {
   "cell_type": "markdown",
   "id": "df1be384",
   "metadata": {},
   "source": [
    "## Training and evaluation\n",
    "\n",
    "Main training loop over dataset sizes and algorithms with robust error handling."
   ]
  },
  {
   "cell_type": "code",
   "execution_count": null,
   "id": "86ad6a11",
   "metadata": {},
   "outputs": [
    {
     "name": "stdout",
     "output_type": "stream",
     "text": [
      "\n",
      "--- Training with size=10 ---\n",
      "\n",
      "=== Learner: GroupDRO ===\n",
      "[Init] size=10 | algo=GroupDRO | data_type=images | input_shape=(3, 28, 28) | labels=2 | attrs=2 | stratified=True\n"
     ]
    },
    {
     "data": {
      "application/vnd.jupyter.widget-view+json": {
       "model_id": "68f77fddabb34c7e8436fb6176ba5731",
       "version_major": 2,
       "version_minor": 0
      },
      "text/plain": [
       "Train size=10 (GroupDRO): 0it [00:00, ?it/s]"
      ]
     },
     "metadata": {},
     "output_type": "display_data"
    },
    {
     "data": {
      "application/vnd.jupyter.widget-view+json": {
       "model_id": "7dc4692d50a3401b90645587d74b9a7f",
       "version_major": 2,
       "version_minor": 0
      },
      "text/plain": [
       "Validation GroupDRO:   0%|          | 0/79 [00:00<?, ?it/s]"
      ]
     },
     "metadata": {},
     "output_type": "display_data"
    },
    {
     "data": {
      "application/vnd.jupyter.widget-view+json": {
       "model_id": "10a0a681e4874915a650f4c4c683e8da",
       "version_major": 2,
       "version_minor": 0
      },
      "text/plain": [
       "Validation GroupDRO:   0%|          | 0/79 [00:00<?, ?it/s]"
      ]
     },
     "metadata": {},
     "output_type": "display_data"
    },
    {
     "data": {
      "application/vnd.jupyter.widget-view+json": {
       "model_id": "ab09bc8fe6c74604bc8e73f32b234696",
       "version_major": 2,
       "version_minor": 0
      },
      "text/plain": [
       "Validation GroupDRO:   0%|          | 0/79 [00:00<?, ?it/s]"
      ]
     },
     "metadata": {},
     "output_type": "display_data"
    },
    {
     "data": {
      "application/vnd.jupyter.widget-view+json": {
       "model_id": "9beb8a779e8644f280daa5791735533c",
       "version_major": 2,
       "version_minor": 0
      },
      "text/plain": [
       "Validation GroupDRO:   0%|          | 0/79 [00:00<?, ?it/s]"
      ]
     },
     "metadata": {},
     "output_type": "display_data"
    },
    {
     "data": {
      "application/vnd.jupyter.widget-view+json": {
       "model_id": "ee9c4c5e97c84475878cd0fe75a4c060",
       "version_major": 2,
       "version_minor": 0
      },
      "text/plain": [
       "Validation GroupDRO:   0%|          | 0/79 [00:00<?, ?it/s]"
      ]
     },
     "metadata": {},
     "output_type": "display_data"
    },
    {
     "data": {
      "application/vnd.jupyter.widget-view+json": {
       "model_id": "cf76f9e438884c2e8d68dc82b2bd084b",
       "version_major": 2,
       "version_minor": 0
      },
      "text/plain": [
       "Validation GroupDRO:   0%|          | 0/79 [00:00<?, ?it/s]"
      ]
     },
     "metadata": {},
     "output_type": "display_data"
    },
    {
     "data": {
      "application/vnd.jupyter.widget-view+json": {
       "model_id": "3eabfdc9c505441880be3d108b24c64b",
       "version_major": 2,
       "version_minor": 0
      },
      "text/plain": [
       "Validation GroupDRO:   0%|          | 0/79 [00:00<?, ?it/s]"
      ]
     },
     "metadata": {},
     "output_type": "display_data"
    },
    {
     "data": {
      "application/vnd.jupyter.widget-view+json": {
       "model_id": "9c3062b82df441a2b74d0453c3d0761b",
       "version_major": 2,
       "version_minor": 0
      },
      "text/plain": [
       "Validation GroupDRO:   0%|          | 0/79 [00:00<?, ?it/s]"
      ]
     },
     "metadata": {},
     "output_type": "display_data"
    },
    {
     "data": {
      "application/vnd.jupyter.widget-view+json": {
       "model_id": "2884e7f3e74d4dbf95dbbda9490e99a5",
       "version_major": 2,
       "version_minor": 0
      },
      "text/plain": [
       "Validation GroupDRO:   0%|          | 0/79 [00:00<?, ?it/s]"
      ]
     },
     "metadata": {},
     "output_type": "display_data"
    },
    {
     "data": {
      "application/vnd.jupyter.widget-view+json": {
       "model_id": "0147a94b30a244c0bfcc2049a48b46b1",
       "version_major": 2,
       "version_minor": 0
      },
      "text/plain": [
       "Validation GroupDRO:   0%|          | 0/79 [00:00<?, ?it/s]"
      ]
     },
     "metadata": {},
     "output_type": "display_data"
    },
    {
     "data": {
      "application/vnd.jupyter.widget-view+json": {
       "model_id": "644460e0089140b58bc6226b5bd8a3c0",
       "version_major": 2,
       "version_minor": 0
      },
      "text/plain": [
       "Validation GroupDRO:   0%|          | 0/79 [00:00<?, ?it/s]"
      ]
     },
     "metadata": {},
     "output_type": "display_data"
    },
    {
     "name": "stdout",
     "output_type": "stream",
     "text": [
      "[EarlyStop] size=10 | algo=GroupDRO | step=220 | best_val=0.3506\n",
      "[Info] Loaded best model from results/20250916-154101/checkpoints/GroupDRO/best_model_GroupDRO_size10.pt\n",
      "[Test Results] | test_acc=0.5350 | worst_group_acc=0.0000 | test_bce=1.1656\n",
      "[Group Results] | group_y=0,a=0_acc=1.0000 | group_y=0,a=1_acc=0.1684 | group_y=1,a=0_acc=0.0000 | group_y=1,a=1_acc=0.9645\n",
      "\n",
      "=== Learner: ERM ===\n",
      "[Init] size=10 | algo=ERM | data_type=images | input_shape=(3, 28, 28) | labels=2 | attrs=2 | stratified=True\n"
     ]
    },
    {
     "data": {
      "application/vnd.jupyter.widget-view+json": {
       "model_id": "2343358a5ac141a2aaa968acaf8a6101",
       "version_major": 2,
       "version_minor": 0
      },
      "text/plain": [
       "Train size=10 (ERM): 0it [00:00, ?it/s]"
      ]
     },
     "metadata": {},
     "output_type": "display_data"
    },
    {
     "data": {
      "application/vnd.jupyter.widget-view+json": {
       "model_id": "ea965db7b1e346068b19b60bb7a39d02",
       "version_major": 2,
       "version_minor": 0
      },
      "text/plain": [
       "Validation ERM:   0%|          | 0/79 [00:00<?, ?it/s]"
      ]
     },
     "metadata": {},
     "output_type": "display_data"
    },
    {
     "data": {
      "application/vnd.jupyter.widget-view+json": {
       "model_id": "581a2aed6a434058babd1696e1d74065",
       "version_major": 2,
       "version_minor": 0
      },
      "text/plain": [
       "Validation ERM:   0%|          | 0/79 [00:00<?, ?it/s]"
      ]
     },
     "metadata": {},
     "output_type": "display_data"
    },
    {
     "data": {
      "application/vnd.jupyter.widget-view+json": {
       "model_id": "3568402d3c284840bbb1bb2569a7b8cc",
       "version_major": 2,
       "version_minor": 0
      },
      "text/plain": [
       "Validation ERM:   0%|          | 0/79 [00:00<?, ?it/s]"
      ]
     },
     "metadata": {},
     "output_type": "display_data"
    },
    {
     "data": {
      "application/vnd.jupyter.widget-view+json": {
       "model_id": "7e6288b8af704c2fbacf12e70e91e78e",
       "version_major": 2,
       "version_minor": 0
      },
      "text/plain": [
       "Validation ERM:   0%|          | 0/79 [00:00<?, ?it/s]"
      ]
     },
     "metadata": {},
     "output_type": "display_data"
    },
    {
     "data": {
      "application/vnd.jupyter.widget-view+json": {
       "model_id": "82fe68d9358746f7bda3df629f3d87da",
       "version_major": 2,
       "version_minor": 0
      },
      "text/plain": [
       "Validation ERM:   0%|          | 0/79 [00:00<?, ?it/s]"
      ]
     },
     "metadata": {},
     "output_type": "display_data"
    },
    {
     "data": {
      "application/vnd.jupyter.widget-view+json": {
       "model_id": "120252d0d7b2432090f7612088576ddd",
       "version_major": 2,
       "version_minor": 0
      },
      "text/plain": [
       "Validation ERM:   0%|          | 0/79 [00:00<?, ?it/s]"
      ]
     },
     "metadata": {},
     "output_type": "display_data"
    },
    {
     "data": {
      "application/vnd.jupyter.widget-view+json": {
       "model_id": "b342885034044ae79c8f20d7a5c1123d",
       "version_major": 2,
       "version_minor": 0
      },
      "text/plain": [
       "Validation ERM:   0%|          | 0/79 [00:00<?, ?it/s]"
      ]
     },
     "metadata": {},
     "output_type": "display_data"
    },
    {
     "data": {
      "application/vnd.jupyter.widget-view+json": {
       "model_id": "e531630080994ac1ae29b53c19e1afd1",
       "version_major": 2,
       "version_minor": 0
      },
      "text/plain": [
       "Validation ERM:   0%|          | 0/79 [00:00<?, ?it/s]"
      ]
     },
     "metadata": {},
     "output_type": "display_data"
    },
    {
     "data": {
      "application/vnd.jupyter.widget-view+json": {
       "model_id": "ce11b21a1806433cbefe3571a42c9eb6",
       "version_major": 2,
       "version_minor": 0
      },
      "text/plain": [
       "Validation ERM:   0%|          | 0/79 [00:00<?, ?it/s]"
      ]
     },
     "metadata": {},
     "output_type": "display_data"
    },
    {
     "name": "stdout",
     "output_type": "stream",
     "text": [
      "[EarlyStop] size=10 | algo=ERM | step=180 | best_val=0.3548\n",
      "[Info] Loaded best model from results/20250916-154101/checkpoints/ERM/best_model_ERM_size10.pt\n",
      "[Test Results] | test_acc=0.5216 | worst_group_acc=0.0000 | test_bce=1.1789\n",
      "[Group Results] | group_y=0,a=0_acc=1.0000 | group_y=0,a=1_acc=0.1218 | group_y=1,a=0_acc=0.0000 | group_y=1,a=1_acc=0.9590\n",
      "\n",
      "--- Training with size=37 ---\n",
      "\n",
      "=== Learner: GroupDRO ===\n",
      "[Init] size=37 | algo=GroupDRO | data_type=images | input_shape=(3, 28, 28) | labels=2 | attrs=2 | stratified=True\n"
     ]
    },
    {
     "data": {
      "application/vnd.jupyter.widget-view+json": {
       "model_id": "9a3742970d22423f94c5e3689eb6c90e",
       "version_major": 2,
       "version_minor": 0
      },
      "text/plain": [
       "Train size=37 (GroupDRO): 0it [00:00, ?it/s]"
      ]
     },
     "metadata": {},
     "output_type": "display_data"
    },
    {
     "data": {
      "application/vnd.jupyter.widget-view+json": {
       "model_id": "a3b39acbb9f54153a85a8f7d7ca8e0e3",
       "version_major": 2,
       "version_minor": 0
      },
      "text/plain": [
       "Validation GroupDRO:   0%|          | 0/79 [00:00<?, ?it/s]"
      ]
     },
     "metadata": {},
     "output_type": "display_data"
    },
    {
     "data": {
      "application/vnd.jupyter.widget-view+json": {
       "model_id": "64a171532d76426fb3712fb22c0f66e5",
       "version_major": 2,
       "version_minor": 0
      },
      "text/plain": [
       "Validation GroupDRO:   0%|          | 0/79 [00:00<?, ?it/s]"
      ]
     },
     "metadata": {},
     "output_type": "display_data"
    },
    {
     "data": {
      "application/vnd.jupyter.widget-view+json": {
       "model_id": "cd099e768c474135b46dc4ea098b6308",
       "version_major": 2,
       "version_minor": 0
      },
      "text/plain": [
       "Validation GroupDRO:   0%|          | 0/79 [00:00<?, ?it/s]"
      ]
     },
     "metadata": {},
     "output_type": "display_data"
    },
    {
     "data": {
      "application/vnd.jupyter.widget-view+json": {
       "model_id": "473bb55dd1f2432d806dc283f5325f07",
       "version_major": 2,
       "version_minor": 0
      },
      "text/plain": [
       "Validation GroupDRO:   0%|          | 0/79 [00:00<?, ?it/s]"
      ]
     },
     "metadata": {},
     "output_type": "display_data"
    },
    {
     "data": {
      "application/vnd.jupyter.widget-view+json": {
       "model_id": "e7e0929b2a804d8687ad803ea7d56d0d",
       "version_major": 2,
       "version_minor": 0
      },
      "text/plain": [
       "Validation GroupDRO:   0%|          | 0/79 [00:00<?, ?it/s]"
      ]
     },
     "metadata": {},
     "output_type": "display_data"
    },
    {
     "data": {
      "application/vnd.jupyter.widget-view+json": {
       "model_id": "26c692a1faa146db849688bd23b1f6d0",
       "version_major": 2,
       "version_minor": 0
      },
      "text/plain": [
       "Validation GroupDRO:   0%|          | 0/79 [00:00<?, ?it/s]"
      ]
     },
     "metadata": {},
     "output_type": "display_data"
    },
    {
     "data": {
      "application/vnd.jupyter.widget-view+json": {
       "model_id": "b3e30af857e54acda9bcd2bee68e40c1",
       "version_major": 2,
       "version_minor": 0
      },
      "text/plain": [
       "Validation GroupDRO:   0%|          | 0/79 [00:00<?, ?it/s]"
      ]
     },
     "metadata": {},
     "output_type": "display_data"
    }
   ],
   "source": [
    "from tqdm.notebook import tqdm  # Use notebook version for cleaner output\n",
    "import os\n",
    "import math\n",
    "import time\n",
    "import logging\n",
    "import itertools\n",
    "\n",
    "# Use environment variable for timestamp if set, else fallback to current time\n",
    "base_timestamp = os.environ.get('PCL_DATE', time.strftime('%Y%m%d-%H%M%S'))\n",
    "\n",
    "result_dir = os.path.join(\"results\", base_timestamp)\n",
    "os.makedirs(result_dir, exist_ok=True)\n",
    "\n",
    "log_file = os.path.join(result_dir, 'training.log')\n",
    "logging.basicConfig(filename=log_file, level=logging.INFO, format='%(asctime)s - %(levelname)s - %(message)s')\n",
    "logger = logging.getLogger(__name__)\n",
    "\n",
    "# Enhanced error tracking\n",
    "ERROR_LOG = {\n",
    "    'algorithm_failures': {},\n",
    "    'size_failures': {},\n",
    "    'step_failures': {},\n",
    "    'validation_failures': {},\n",
    "    'test_failures': {}\n",
    "}\n",
    "\n",
    "# Precompute subsets for each dataset size so all learners use the same indices\n",
    "subset_indices_map = {}\n",
    "for size in dataset_sizes:\n",
    "    if USE_STRATIFIED:\n",
    "        # Draw indices proportionally to group distribution\n",
    "        subset_indices = w(group_to_indices, size, rng=np.random.RandomState(0 + size))\n",
    "        subset_indices_map[size] = subset_indices\n",
    "    else:\n",
    "        # Simple random prefix\n",
    "        subset_indices_map[size] = indices[:size]\n",
    "\n",
    "# Initialize result maps with NaNs\n",
    "for alg in LEARNERS:\n",
    "    val_loss_map[alg] = [float('nan')] * len(dataset_sizes)\n",
    "    train_loss_map[alg] = [float('nan')] * len(dataset_sizes)\n",
    "    test_loss_map[alg] = [float('nan')] * len(dataset_sizes)\n",
    "    test_acc_map[alg] = [float('nan')] * len(dataset_sizes)\n",
    "    worst_group_acc_map[alg] = [float('nan')] * len(dataset_sizes)\n",
    "    group_acc_map[alg] = [{} for _ in dataset_sizes]\n",
    "\n",
    "val_loader = DataLoader(val_dataset, batch_size=BATCH_SIZE, shuffle=False, num_workers=NUM_WORKERS, pin_memory=True)\n",
    "test_loader = DataLoader(test_dataset, batch_size=BATCH_SIZE, shuffle=False, num_workers=NUM_WORKERS, pin_memory=True)\n",
    "\n",
    "# === Main Experiment Loop ===\n",
    "for size in dataset_sizes:\n",
    "    print(f\"\\n--- Training with size={size} ---\")\n",
    "    subset_indices = subset_indices_map[size]\n",
    "    train_subset = Subset(train_dataset, subset_indices)\n",
    "\n",
    "    # Attach attributes to subset for convenience\n",
    "    attach_dataset_attributes(train_subset)\n",
    "\n",
    "    input_shape = train_subset.INPUT_SHAPE\n",
    "    num_labels = train_subset.num_labels\n",
    "    num_attributes = train_subset.num_attributes\n",
    "    data_type = getattr(train_subset, 'data_type', 'images')\n",
    "\n",
    "    for ALGO_NAME in LEARNERS:\n",
    "        try:\n",
    "            print(f\"\\n=== Learner: {ALGO_NAME} ===\")\n",
    "            \n",
    "            # --- Setup hyperparameters for current algorithm ---\n",
    "            hparams = hparams_registry.default_hparams(ALGO_NAME, DATASET_NAME)\n",
    "            hparams.update(base_hparams)\n",
    "\n",
    "            # --- Initialize Algorithm ---\n",
    "            AlgorithmClass = algorithms.get_algorithm_class(ALGO_NAME)\n",
    "            algo = AlgorithmClass(data_type, input_shape, num_labels, num_attributes, len(train_subset), hparams)\n",
    "            if hasattr(algo, 'to'):\n",
    "                algo = algo.to(DEVICE)\n",
    "\n",
    "            print(f\"[Init] size={size} | algo={ALGO_NAME} | data_type={data_type} | input_shape={input_shape} | labels={num_labels} | attrs={num_attributes} | stratified={USE_STRATIFIED}\")\n",
    "\n",
    "            # --- Training loop with early stopping ---\n",
    "            checkpoint_freq = max(20, math.ceil(len(train_subset) / BATCH_SIZE)) # process at least 20 batches at minimum between evaluations\n",
    "            best_val = float('inf')\n",
    "            bad_checks = 0\n",
    "\n",
    "            ckpt_dir = os.path.join(result_dir, 'checkpoints', ALGO_NAME)\n",
    "            os.makedirs(ckpt_dir, exist_ok=True)\n",
    "            best_model_path = os.path.join(ckpt_dir, f'best_model_{ALGO_NAME}_size{size}.pt')\n",
    "\n",
    "            train_losses_epoch = []\n",
    "            algo.train()\n",
    "\n",
    "            if hparams['group_balanced']:\n",
    "                # if attribute not available, groups degenerate to classes\n",
    "                train_weights = np.asarray([train_dataset.weights_g[idx] for idx in subset_indices])\n",
    "                train_weights /= np.sum(train_weights)\n",
    "            else:\n",
    "                train_weights = None\n",
    "\n",
    "            train_minibatches_iterator = iter(InfiniteDataLoader(\n",
    "            dataset=train_subset,\n",
    "            weights=train_weights,\n",
    "            batch_size=BATCH_SIZE,\n",
    "            num_workers=NUM_WORKERS,\n",
    "            seed=seed))\n",
    "            # Use itertools.count() for infinite progress bar that stops on early stopping\n",
    "            pbar = tqdm(itertools.count(), desc=f\"Train size={size} ({ALGO_NAME})\", leave=False)\n",
    "\n",
    "            for step in pbar:\n",
    "                try:\n",
    "                    # --- Training step ---\n",
    "                    i, x, y, a = next(train_minibatches_iterator)\n",
    "                    x, y, a = x.to(DEVICE), y.to(DEVICE), a.to(DEVICE)\n",
    "\n",
    "                    # Robust training step with error handling\n",
    "                    try:\n",
    "                        loss_dict = algo.update((i, x, y, a), step)\n",
    "                        cur_loss = safe_extract_loss(loss_dict)\n",
    "                        train_losses_epoch.append(cur_loss)\n",
    "                    except Exception as e:\n",
    "                        logger.warning(f\"[Warning] Training step {step} failed: {e}\")\n",
    "                        cur_loss = float('nan')\n",
    "                        train_losses_epoch.append(cur_loss)\n",
    "\n",
    "                    # --- Validation checkpoint (once per epoch) ---\n",
    "                    do_check = ((step + 1) % checkpoint_freq == 0)\n",
    "                    if do_check:\n",
    "                        try:\n",
    "                            algo.eval()\n",
    "                            val_losses_step = []\n",
    "                            val_acc_step = []\n",
    "\n",
    "                            with torch.no_grad():\n",
    "                                for i_val, x_val, y_val, a_val in tqdm(val_loader, desc=f\"Validation {ALGO_NAME}\", leave=False):\n",
    "                                    try:\n",
    "                                        x_val, y_val, a_val = x_val.to(DEVICE), y_val.to(DEVICE), a_val.to(DEVICE)\n",
    "                                        y_pred, vloss = algo.predict(x_val, y_val, return_loss=True)\n",
    "\n",
    "                                        vloss_safe = safe_extract_loss(vloss)\n",
    "                                        val_losses_step.append(vloss_safe)\n",
    "\n",
    "                                        try:\n",
    "                                            if hasattr(algo, 'predict_labels'):\n",
    "                                                y_hat = algo.predict_labels(x_val)\n",
    "                                            else:\n",
    "                                                y_hat = y_pred.argmax(dim=-1) if y_pred.ndim > 1 else (y_pred > 0.5).long()\n",
    "                                            acc = float((y_hat == y_val).float().mean().item())\n",
    "                                            val_acc_step.append(acc)\n",
    "                                        except Exception as e:\n",
    "                                            logger.warning(f\"[Warning] Accuracy computation failed: {e}\")\n",
    "                                            val_acc_step.append(float('nan'))\n",
    "                                    except Exception as e:\n",
    "                                        logger.warning(f\"[Warning] Validation batch failed: {e}\")\n",
    "                                        val_losses_step.append(float('nan'))\n",
    "                                        val_acc_step.append(float('nan'))\n",
    "\n",
    "                            mean_val_loss = safe_mean(val_losses_step)\n",
    "                            mean_val_acc = safe_mean(val_acc_step)\n",
    "\n",
    "                            if np.isfinite(mean_val_loss) and np.isfinite(best_val):\n",
    "                                improved = (best_val - mean_val_loss) > ES_MIN_DELTA\n",
    "                                if improved:\n",
    "                                    best_val = mean_val_loss\n",
    "                                    bad_checks = 0\n",
    "                                    try:\n",
    "                                        torch.save(algo.state_dict(), best_model_path)\n",
    "                                    except Exception as e:\n",
    "                                        logger.warning(f\"[Warning] Failed to save checkpoint: {e}\")\n",
    "                                else:\n",
    "                                    bad_checks += 1\n",
    "                            elif np.isfinite(mean_val_loss):\n",
    "                                best_val = mean_val_loss\n",
    "                                bad_checks = 0\n",
    "                                try:\n",
    "                                    torch.save(algo.state_dict(), best_model_path)\n",
    "                                except Exception as e:\n",
    "                                    logger.warning(f\"[Warning] Failed to save checkpoint: {e}\")\n",
    "\n",
    "                            # Print progress info instead of using progress bar\n",
    "                            pbar.set_postfix({\n",
    "                                'train_loss': cur_loss if np.isfinite(cur_loss) else 'NaN',\n",
    "                                'val_loss': mean_val_loss if np.isfinite(mean_val_loss) else 'NaN',\n",
    "                                'val_acc': mean_val_acc if np.isfinite(mean_val_acc) else 'NaN',\n",
    "                                'best_val': best_val if np.isfinite(best_val) else 'NaN',\n",
    "                                'pat': f\"{bad_checks}/{ES_PATIENCE}\"\n",
    "                            })\n",
    "                            \n",
    "                            if bad_checks >= ES_PATIENCE:\n",
    "                                print(f\"[EarlyStop] size={size} | algo={ALGO_NAME} | step={step+1} | best_val={best_val:.4f}\")\n",
    "                                break\n",
    "                        except Exception as e:\n",
    "                            logger.warning(f\"[Warning] Validation checkpoint failed at step {step}: {e}\")\n",
    "                        finally:\n",
    "                            algo.train()  # Ensure we're back in training mode\n",
    "\n",
    "                except Exception as e:\n",
    "                    logger.warning(f\"[Warning] Step {step} failed entirely: {e}\")\n",
    "                    continue\n",
    "\n",
    "            # Close the progress bar when training finishes\n",
    "            pbar.close()\n",
    "\n",
    "            val_loss_map[ALGO_NAME][dataset_sizes.index(size)] = best_val if np.isfinite(best_val) else float('nan')\n",
    "            train_loss_map[ALGO_NAME][dataset_sizes.index(size)] = safe_mean(train_losses_epoch)\n",
    "\n",
    "            try:\n",
    "                if os.path.exists(best_model_path):\n",
    "                    algo.load_state_dict(torch.load(best_model_path, map_location=DEVICE))\n",
    "                    print(f\"[Info] Loaded best model from {best_model_path}\")\n",
    "                else:\n",
    "                    print(f\"[Warning] No checkpoint found at {best_model_path}, using current model\")\n",
    "            except Exception as e:\n",
    "                logger.warning(f\"[Warning] Failed to load checkpoint: {e}\")\n",
    "\n",
    "            try:\n",
    "                #TODO eval should be on WGA ? \n",
    "                algo.eval()\n",
    "                metrics = eval_metrics(algo, test_loader, DEVICE)\n",
    "\n",
    "                test_bce = float('nan')\n",
    "                test_acc = float('nan')\n",
    "                worst_group_acc = float('nan')\n",
    "                group_accuracies = {}\n",
    "\n",
    "                if isinstance(metrics, dict):\n",
    "                    overall_metrics = metrics.get('overall', {})\n",
    "                    if isinstance(overall_metrics, dict):\n",
    "                        test_bce = overall_metrics.get('BCE', float('nan'))\n",
    "                        test_acc = overall_metrics.get('accuracy', float('nan'))\n",
    "\n",
    "                    min_group_metrics = metrics.get('min_group', {})\n",
    "                    if isinstance(min_group_metrics, dict):\n",
    "                        worst_group_acc = min_group_metrics.get('accuracy', float('nan'))\n",
    "                    \n",
    "                    # Extract all group accuracies\n",
    "                    group_metrics = metrics.get('per_group', {})\n",
    "                    if isinstance(group_metrics, dict):\n",
    "                        for group_key, group_data in group_metrics.items():\n",
    "                            if isinstance(group_data, dict) and 'accuracy' in group_data:\n",
    "                                group_accuracies[f'group_{group_key}_acc'] = group_data['accuracy']\n",
    "\n",
    "                test_loss_map[ALGO_NAME][da<taset_sizes.index(size)] = test_bce\n",
    "                test_acc_map[ALGO_NAME][dataset_sizes.index(size)] = test_acc\n",
    "                worst_group_acc_map[ALGO_NAME][dataset_sizes.index(size)] = worst_group_acc\n",
    "                group_acc_map[ALGO_NAME][dataset_sizes.index(size)] = group_accuracies\n",
    "\n",
    "                print(f\"[Test Results] | test_acc={test_acc:.4f} | worst_group_acc={worst_group_acc:.4f} | test_bce={test_bce:.4f}\")\n",
    "                if group_accuracies:\n",
    "                    group_acc_str = \" | \".join([f\"{k}={v:.4f}\" for k, v in group_accuracies.items()])\n",
    "                    print(f\"[Group Results] | {group_acc_str}\")\n",
    "            \n",
    "            except Exception as e:\n",
    "                logger.warning(f\"[Warning] Test evaluation failed for {ALGO_NAME} size={size}: {e}\")\n",
    "        \n",
    "        except Exception as e:\n",
    "            logger.error(f\"[Error] Training failed for {ALGO_NAME} size={size}: {e}\")\n",
    "\n",
    "print(\"\\n=== Training Complete ===\")"
   ]
  },
  {
   "cell_type": "markdown",
   "id": "9437998c",
   "metadata": {},
   "source": [
    "## Results and plots\n",
    "\n",
    "Validation CE and training loss across learners and dataset sizes."
   ]
  },
  {
   "cell_type": "code",
   "execution_count": null,
   "id": "93bef28f",
   "metadata": {},
   "outputs": [
    {
     "name": "stderr",
     "output_type": "stream",
     "text": [
      "/tmp/ipykernel_277407/23144739.py:100: UserWarning: linestyle is redundantly defined by the 'linestyle' keyword argument and the fmt string \"-o\" (-> linestyle='-'). The keyword argument will take precedence.\n",
      "  ax3.plot(x_vals, y_vals, '-o', label=f'{alg} Test Acc', color=alg_colors[alg], linestyle='-')\n",
      "/tmp/ipykernel_277407/23144739.py:108: UserWarning: linestyle is redundantly defined by the 'linestyle' keyword argument and the fmt string \"--s\" (-> linestyle='--'). The keyword argument will take precedence.\n",
      "  ax3.plot(x_vals, y_vals, '--s', label=f'{alg} Worst Group Acc', color=alg_colors[alg], linestyle='--')\n"
     ]
    },
    {
     "name": "stdout",
     "output_type": "stream",
     "text": [
      "[savefig] Saved figure to results/20250916-110152/plots/cmnist_summary_metrics_0.5_spur0.1.png\n",
      "[Info] Plot saved successfully: results/20250916-110152/plots/cmnist_summary_metrics_0.5_spur0.1.png\n"
     ]
    },
    {
     "data": {
      "image/png": "[encoded data removed]",
      "text/plain": [
       "<Figure size 1800x500 with 3 Axes>"
      ]
     },
     "metadata": {},
     "output_type": "display_data"
    },
    {
     "name": "stdout",
     "output_type": "stream",
     "text": [
      "Added 4 group accuracy columns: ['group_y=0,a=0_acc', 'group_y=0,a=1_acc', 'group_y=1,a=0_acc', 'group_y=1,a=1_acc']\n",
      "PCL curve results saved to results/20250916-110152/../../data/pcl_curve_seed0_attr0p5_spur0p1.csv\n",
      "CSV contains 14 columns and 2 rows\n",
      "\n",
      "=== Results Summary for CMNIST ===\n",
      "\n",
      "ERM:\n",
      "  Valid validation losses: 2/2\n",
      "  Valid test accuracies: 2/2\n",
      "  Valid worst group accuracies: 2/2\n",
      "  Best test accuracy: 0.5300\n",
      "  Best worst group accuracy: 0.0000\n",
      "  Group accuracies tracked: ['group_y=0,a=0_acc', 'group_y=0,a=1_acc', 'group_y=1,a=0_acc', 'group_y=1,a=1_acc']\n"
     ]
    },
    {
     "ename": "",
     "evalue": "",
     "output_type": "error",
     "traceback": [
      "\u001b[1;31mnotebook controller is DISPOSED. \n",
      "\u001b[1;31mView Jupyter <a href='command:jupyter.viewOutput'>log</a> for further details."
     ]
    },
    {
     "ename": "",
     "evalue": "",
     "output_type": "error",
     "traceback": [
      "\u001b[1;31mnotebook controller is DISPOSED. \n",
      "\u001b[1;31mView Jupyter <a href='command:jupyter.viewOutput'>log</a> for further details."
     ]
    },
    {
     "ename": "",
     "evalue": "",
     "output_type": "error",
     "traceback": [
      "\u001b[1;31mnotebook controller is DISPOSED. \n",
      "\u001b[1;31mView Jupyter <a href='command:jupyter.viewOutput'>log</a> for further details."
     ]
    },
    {
     "ename": "",
     "evalue": "",
     "output_type": "error",
     "traceback": [
      "\u001b[1;31mnotebook controller is DISPOSED. \n",
      "\u001b[1;31mView Jupyter <a href='command:jupyter.viewOutput'>log</a> for further details."
     ]
    },
    {
     "ename": "",
     "evalue": "",
     "output_type": "error",
     "traceback": [
      "\u001b[1;31mnotebook controller is DISPOSED. \n",
      "\u001b[1;31mView Jupyter <a href='command:jupyter.viewOutput'>log</a> for further details."
     ]
    },
    {
     "ename": "",
     "evalue": "",
     "output_type": "error",
     "traceback": [
      "\u001b[1;31mnotebook controller is DISPOSED. \n",
      "\u001b[1;31mView Jupyter <a href='command:jupyter.viewOutput'>log</a> for further details."
     ]
    },
    {
     "ename": "",
     "evalue": "",
     "output_type": "error",
     "traceback": [
      "\u001b[1;31mnotebook controller is DISPOSED. \n",
      "\u001b[1;31mView Jupyter <a href='command:jupyter.viewOutput'>log</a> for further details."
     ]
    }
   ],
   "source": [
    "# Plotting and CSV export\n",
    "import pandas as pd\n",
    "from source.utils.plotting import savefig\n",
    "\n",
    "# Robustly parse group accuracy data and generate CSV records\n",
    "pcl_records = []\n",
    "\n",
    "for alg in LEARNERS:\n",
    "    for i, size in enumerate(dataset_sizes):\n",
    "        record = {\n",
    "            'algorithm': alg,\n",
    "            'dataset_size': size,\n",
    "            'val_loss': val_loss_map.get(alg, [float('nan')] * len(dataset_sizes))[i],\n",
    "            'train_loss': train_loss_map.get(alg, [float('nan')] * len(dataset_sizes))[i], \n",
    "            'test_loss': test_loss_map.get(alg, [float('nan')] * len(dataset_sizes))[i],\n",
    "            'test_acc': test_acc_map.get(alg, [float('nan')] * len(dataset_sizes))[i],\n",
    "            'worst_group_acc': worst_group_acc_map.get(alg, [float('nan')] * len(dataset_sizes))[i],\n",
    "            'seed': seed,\n",
    "            'cmnist_attr_prob': base_hparams.get('cmnist_attr_prob'),\n",
    "            'cmnist_spur_prob': base_hparams.get('cmnist_spur_prob')\n",
    "        }\n",
    "        \n",
    "        # Add all group accuracies to the record\n",
    "        if alg in group_acc_map and i < len(group_acc_map[alg]):\n",
    "            group_accs = group_acc_map[alg][i]\n",
    "            if isinstance(group_accs, dict):\n",
    "                record.update(group_accs)\n",
    "            \n",
    "        pcl_records.append(record)\n",
    "\n",
    "def filter_finite_values(x_vals, y_vals):\n",
    "    \"\"\"Remove NaN/inf values from plotting data\"\"\"\n",
    "    try:\n",
    "        finite_mask = np.isfinite(y_vals)\n",
    "        return np.array(x_vals)[finite_mask], np.array(y_vals)[finite_mask]\n",
    "    except Exception as e:\n",
    "        print(f\"[Warning] Error filtering values: {e}\")\n",
    "        return np.array([]), np.array([])\n",
    "\n",
    "# Plot results\n",
    "fig, axes = plt.subplots(1, 3, figsize=(18, 5))\n",
    "\n",
    "# Algorithm colors for consistent plotting\n",
    "alg_colors = {\n",
    "    'ERM': 'blue',\n",
    "    'IRM': 'red', \n",
    "    'GroupDRO': 'green',\n",
    "}\n",
    "\n",
    "# Validation loss\n",
    "ax = axes[0]\n",
    "for alg in LEARNERS:\n",
    "    try:\n",
    "        if alg in val_loss_map and val_loss_map[alg]:\n",
    "            x_vals, y_vals = filter_finite_values(dataset_sizes, val_loss_map[alg])\n",
    "            if len(x_vals) > 0:\n",
    "                ax.plot(x_vals, y_vals, '-o', label=alg, color=alg_colors.get(alg, 'black'))\n",
    "            else:\n",
    "                print(f\"[Warning] No valid validation loss data for {alg}\")\n",
    "    except Exception as e:\n",
    "        print(f\"[Warning] Failed to plot validation loss for {alg}: {e}\")\n",
    "\n",
    "ax.set_xlabel('Training Set Size')\n",
    "ax.set_ylabel('Validation Loss')\n",
    "ax.set_xscale('log')\n",
    "ax.set_xlim(left=min(dataset_sizes))\n",
    "ax.set_title(f'{DATASET_NAME} — Validation Loss vs. Train Size')\n",
    "ax.grid(True)\n",
    "ax.legend(title='Learner')\n",
    "\n",
    "# Test loss\n",
    "ax2 = axes[1]\n",
    "for alg in LEARNERS:\n",
    "    try:\n",
    "        if alg in test_loss_map and test_loss_map[alg]:\n",
    "            x_vals, y_vals = filter_finite_values(dataset_sizes, test_loss_map[alg])\n",
    "            if len(x_vals) > 0:\n",
    "                ax2.plot(x_vals, y_vals, '-o', label=alg, color=alg_colors.get(alg, 'black'))\n",
    "            else:\n",
    "                print(f\"[Warning] No valid test loss data for {alg}\")\n",
    "    except Exception as e:\n",
    "        print(f\"[Warning] Failed to plot test loss for {alg}: {e}\")\n",
    "\n",
    "ax2.set_xlabel('Training Set Size')\n",
    "ax2.set_ylabel('Test Loss')\n",
    "ax2.set_xscale('log')\n",
    "ax2.set_xlim(left=min(dataset_sizes))\n",
    "ax2.set_title(f'{DATASET_NAME} — Test Loss vs. Train Size')\n",
    "ax2.grid(True)\n",
    "ax2.legend(title='Learner')\n",
    "\n",
    "# Test accuracy and worst-group accuracy\n",
    "ax3 = axes[2]\n",
    "for alg in LEARNERS:\n",
    "    try:\n",
    "        # Plot test accuracy\n",
    "        if alg in test_acc_map and test_acc_map[alg]:\n",
    "            x_vals, y_vals = filter_finite_values(dataset_sizes, test_acc_map[alg])\n",
    "            if len(x_vals) > 0:\n",
    "                ax3.plot(x_vals, y_vals, '-o', label=f'{alg} Test Acc', color=alg_colors[alg], linestyle='-')\n",
    "            else:\n",
    "                print(f\"[Warning] No valid test accuracy data for {alg}\")\n",
    "        \n",
    "        # Plot worst group accuracy\n",
    "        if alg in worst_group_acc_map and worst_group_acc_map[alg]:\n",
    "            x_vals, y_vals = filter_finite_values(dataset_sizes, worst_group_acc_map[alg])\n",
    "            if len(x_vals) > 0:\n",
    "                ax3.plot(x_vals, y_vals, '--s', label=f'{alg} Worst Group Acc', color=alg_colors[alg], linestyle='--')\n",
    "            else:\n",
    "                print(f\"[Warning] No valid worst group accuracy data for {alg}\")\n",
    "                \n",
    "    except Exception as e:\n",
    "        print(f\"[Warning] Failed to plot accuracy metrics for {alg}: {e}\")\n",
    "\n",
    "ax3.set_xlabel('Training Set Size')\n",
    "ax3.set_ylabel('Test Accuracy / Worst Group Accuracy')\n",
    "ax3.set_xscale('log')\n",
    "ax3.set_xlim(left=min(dataset_sizes))\n",
    "ax3.set_ylim(0, 1)\n",
    "ax3.set_title(f'{DATASET_NAME} — Test Acc & Worst Group Acc vs. Train Size')\n",
    "ax3.grid(True)\n",
    "ax3.legend(title='Metric')\n",
    "\n",
    "plt.tight_layout()\n",
    "\n",
    "# Save figure with error handling\n",
    "plot_dir = os.path.join(result_dir, \"plots\")\n",
    "os.makedirs(plot_dir, exist_ok=True)\n",
    "plot_path = os.path.join(plot_dir, f'{DATASET_NAME.lower()}_summary_metrics_{base_hparams.get(\"cmnist_attr_prob\")}_spur{base_hparams.get(\"cmnist_spur_prob\")}.png')\n",
    "try:\n",
    "    savefig(plot_path, fig=fig)\n",
    "    print(f\"[Info] Plot saved successfully: {plot_path}\")\n",
    "except Exception as e:\n",
    "    print(f\"[Warning] Failed to save plot: {e}\")\n",
    "\n",
    "plt.show()\n",
    "\n",
    "# Save PCL curve results to CSV with all group accuracies\n",
    "table_dir = os.path.join(result_dir, \"../../data\")\n",
    "os.makedirs(table_dir, exist_ok=True)\n",
    "attr_prob_str = str(base_hparams.get('cmnist_attr_prob')).replace('.', 'p')\n",
    "spur_prob_str = str(base_hparams.get('cmnist_spur_prob')).replace('.', 'p')\n",
    "csv_filename = f\"{table_dir}/pcl_curve_seed{seed}_attr{attr_prob_str}_spur{spur_prob_str}.csv\"\n",
    "pcl_df = pd.DataFrame(pcl_records)\n",
    "\n",
    "# Display information about group columns\n",
    "group_columns = [col for col in pcl_df.columns if col.startswith('group_') and col.endswith('_acc')]\n",
    "if group_columns:\n",
    "    print(f\"Added {len(group_columns)} group accuracy columns: {group_columns}\")\n",
    "else:\n",
    "    print(\"No group accuracy columns found (this might be expected if eval_metrics doesn't return group-level data)\")\n",
    "\n",
    "pcl_df.to_csv(csv_filename, index=False)\n",
    "print(f\"PCL curve results saved to {csv_filename}\")\n",
    "print(f\"CSV contains {len(pcl_df.columns)} columns and {len(pcl_df)} rows\")\n",
    "\n",
    "# Print summary of results\n",
    "print(f\"\\n=== Results Summary for {DATASET_NAME} ===\")\n",
    "for alg in LEARNERS:\n",
    "    print(f\"\\n{alg}:\")\n",
    "    try:\n",
    "        valid_val_losses = [x for x in val_loss_map.get(alg, []) if np.isfinite(x)]\n",
    "        valid_test_accs = [x for x in test_acc_map.get(alg, []) if np.isfinite(x)]\n",
    "        valid_worst_accs = [x for x in worst_group_acc_map.get(alg, []) if np.isfinite(x)]\n",
    "        \n",
    "        print(f\"  Valid validation losses: {len(valid_val_losses)}/{len(dataset_sizes)}\")\n",
    "        print(f\"  Valid test accuracies: {len(valid_test_accs)}/{len(dataset_sizes)}\")\n",
    "        print(f\"  Valid worst group accuracies: {len(valid_worst_accs)}/{len(dataset_sizes)}\")\n",
    "        \n",
    "        if valid_test_accs:\n",
    "            print(f\"  Best test accuracy: {max(valid_test_accs):.4f}\")\n",
    "        if valid_worst_accs:\n",
    "            print(f\"  Best worst group accuracy: {max(valid_worst_accs):.4f}\")\n",
    "            \n",
    "        # Show group accuracy summary if available\n",
    "        if alg in group_acc_map:\n",
    "            group_data = group_acc_map[alg]\n",
    "            if group_data and any(group_data):\n",
    "                all_group_keys = set()\n",
    "                for group_dict in group_data:\n",
    "                    if group_dict:\n",
    "                        all_group_keys.update(group_dict.keys())\n",
    "                if all_group_keys:\n",
    "                    print(f\"  Group accuracies tracked: {sorted(all_group_keys)}\")\n",
    "                    \n",
    "    except Exception as e:\n",
    "        print(f\"  Error computing summary: {e}\")"
   ]
  },
  {
   "cell_type": "code",
   "execution_count": null,
   "id": "b63a88df",
   "metadata": {},
   "outputs": [
    {
     "name": "stdout",
     "output_type": "stream",
     "text": [
      "\n",
      "=== Error Summary ===\n",
      "No errors encountered!\n",
      "\n",
      "GPU memory cleared. Available memory: 47.8 GB\n",
      "Summary saved to: results/20250916-110152/summary_CMNIST.txt\n",
      "\n",
      "=== Experiment Complete ===\n"
     ]
    },
    {
     "ename": "",
     "evalue": "",
     "output_type": "error",
     "traceback": [
      "\u001b[1;31mnotebook controller is DISPOSED. \n",
      "\u001b[1;31mView Jupyter <a href='command:jupyter.viewOutput'>log</a> for further details."
     ]
    },
    {
     "ename": "",
     "evalue": "",
     "output_type": "error",
     "traceback": [
      "\u001b[1;31mnotebook controller is DISPOSED. \n",
      "\u001b[1;31mView Jupyter <a href='command:jupyter.viewOutput'>log</a> for further details."
     ]
    },
    {
     "ename": "",
     "evalue": "",
     "output_type": "error",
     "traceback": [
      "\u001b[1;31mnotebook controller is DISPOSED. \n",
      "\u001b[1;31mView Jupyter <a href='command:jupyter.viewOutput'>log</a> for further details."
     ]
    },
    {
     "ename": "",
     "evalue": "",
     "output_type": "error",
     "traceback": [
      "\u001b[1;31mnotebook controller is DISPOSED. \n",
      "\u001b[1;31mView Jupyter <a href='command:jupyter.viewOutput'>log</a> for further details."
     ]
    },
    {
     "ename": "",
     "evalue": "",
     "output_type": "error",
     "traceback": [
      "\u001b[1;31mnotebook controller is DISPOSED. \n",
      "\u001b[1;31mView Jupyter <a href='command:jupyter.viewOutput'>log</a> for further details."
     ]
    },
    {
     "ename": "",
     "evalue": "",
     "output_type": "error",
     "traceback": [
      "\u001b[1;31mnotebook controller is DISPOSED. \n",
      "\u001b[1;31mView Jupyter <a href='command:jupyter.viewOutput'>log</a> for further details."
     ]
    },
    {
     "ename": "",
     "evalue": "",
     "output_type": "error",
     "traceback": [
      "\u001b[1;31mnotebook controller is DISPOSED. \n",
      "\u001b[1;31mView Jupyter <a href='command:jupyter.viewOutput'>log</a> for further details."
     ]
    }
   ],
   "source": [
    "import pickle\n",
    "from datetime import datetime\n",
    "\n",
    "# Print error summary and cleanup\n",
    "print_error_summary(ERROR_LOG)\n",
    "\n",
    "# Memory cleanup\n",
    "if torch.cuda.is_available():\n",
    "    torch.cuda.empty_cache()\n",
    "    print(f\"\\nGPU memory cleared. Available memory: {torch.cuda.get_device_properties(0).total_memory / 1e9:.1f} GB\")\n",
    "\n",
    "try:\n",
    "    # Also save a human-readable summary\n",
    "    summary_file = os.path.join(result_dir, f\"summary_{DATASET_NAME}.txt\")\n",
    "    with open(summary_file, 'w') as f:\n",
    "        f.write(f\"Experiment Summary - {DATASET_NAME}\\n\")\n",
    "        f.write(f\"Learners: {LEARNERS}\\n\")\n",
    "        f.write(f\"Dataset sizes: {dataset_sizes}\\n\\n\")\n",
    "        \n",
    "        for alg in LEARNERS:\n",
    "            f.write(f\"\\n{alg} Results:\\n\")\n",
    "            f.write(\"-\" * 20 + \"\\n\")\n",
    "            \n",
    "            for i, size in enumerate(dataset_sizes):\n",
    "                f.write(f\"Size {size}:\\n\")\n",
    "                f.write(f\"  Val Loss: {val_loss_map.get(alg, [float('nan')] * len(dataset_sizes))[i]:.4f}\\n\")\n",
    "                f.write(f\"  Test Acc: {test_acc_map.get(alg, [float('nan')] * len(dataset_sizes))[i]:.4f}\\n\")\n",
    "                f.write(f\"  Worst Group Acc: {worst_group_acc_map.get(alg, [float('nan')] * len(dataset_sizes))[i]:.4f}\\n\")\n",
    "        \n",
    "        # Add error summary\n",
    "        f.write(f\"\\n\\nError Summary:\\n\")\n",
    "        f.write(\"=\" * 30 + \"\\n\")\n",
    "        total_errors = sum(len(errors) for error_dict in ERROR_LOG.values() for errors in error_dict.values())\n",
    "        f.write(f\"Total errors encountered: {total_errors}\\n\")\n",
    "        \n",
    "        for error_type, errors in ERROR_LOG.items():\n",
    "            if errors:\n",
    "                f.write(f\"\\n{error_type.replace('_', ' ').title()}:\\n\")\n",
    "                for context, error_list in errors.items():\n",
    "                    f.write(f\"  {context}: {len(error_list)} errors\\n\")\n",
    "    \n",
    "    print(f\"Summary saved to: {summary_file}\")\n",
    "    \n",
    "except Exception as e:\n",
    "    print(f\"Warning: Failed to save summary: {e}\")\n",
    "\n",
    "print(\"\\n=== Experiment Complete ===\")"
   ]
  }
 ],
 "metadata": {
  "kernelspec": {
   "display_name": ".venv",
   "language": "python",
   "name": "python3"
  },
  "language_info": {
   "codemirror_mode": {
    "name": "ipython",
    "version": 3
   },
   "file_extension": ".py",
   "mimetype": "text/x-python",
   "name": "python",
   "nbconvert_exporter": "python",
   "pygments_lexer": "ipython3",
   "version": "3.12.11"
  }
 },
 "nbformat": 4,
 "nbformat_minor": 5
}
